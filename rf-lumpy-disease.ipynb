{
 "cells": [
  {
   "cell_type": "code",
   "execution_count": 23,
   "metadata": {
    "execution": {
     "iopub.execute_input": "2024-05-25T20:01:56.754658Z",
     "iopub.status.busy": "2024-05-25T20:01:56.753211Z",
     "iopub.status.idle": "2024-05-25T20:01:56.761072Z",
     "shell.execute_reply": "2024-05-25T20:01:56.759639Z",
     "shell.execute_reply.started": "2024-05-25T20:01:56.754597Z"
    }
   },
   "outputs": [],
   "source": [
    "import pandas as pd\n",
    "import numpy as np\n",
    "from scipy import stats"
   ]
  },
  {
   "cell_type": "code",
   "execution_count": 24,
   "metadata": {
    "execution": {
     "iopub.execute_input": "2024-05-25T20:01:57.233062Z",
     "iopub.status.busy": "2024-05-25T20:01:57.232522Z",
     "iopub.status.idle": "2024-05-25T20:01:57.352518Z",
     "shell.execute_reply": "2024-05-25T20:01:57.351046Z",
     "shell.execute_reply.started": "2024-05-25T20:01:57.233017Z"
    }
   },
   "outputs": [
    {
     "data": {
      "text/html": [
       "<div>\n",
       "<style scoped>\n",
       "    .dataframe tbody tr th:only-of-type {\n",
       "        vertical-align: middle;\n",
       "    }\n",
       "\n",
       "    .dataframe tbody tr th {\n",
       "        vertical-align: top;\n",
       "    }\n",
       "\n",
       "    .dataframe thead th {\n",
       "        text-align: right;\n",
       "    }\n",
       "</style>\n",
       "<table border=\"1\" class=\"dataframe\">\n",
       "  <thead>\n",
       "    <tr style=\"text-align: right;\">\n",
       "      <th></th>\n",
       "      <th>x</th>\n",
       "      <th>y</th>\n",
       "      <th>region</th>\n",
       "      <th>country</th>\n",
       "      <th>reportingDate</th>\n",
       "      <th>cld</th>\n",
       "      <th>dtr</th>\n",
       "      <th>frs</th>\n",
       "      <th>pet</th>\n",
       "      <th>pre</th>\n",
       "      <th>tmn</th>\n",
       "      <th>tmp</th>\n",
       "      <th>tmx</th>\n",
       "      <th>vap</th>\n",
       "      <th>wet</th>\n",
       "      <th>elevation</th>\n",
       "      <th>dominant_land_cover</th>\n",
       "      <th>X5_Ct_2010_Da</th>\n",
       "      <th>X5_Bf_2010_Da</th>\n",
       "      <th>lumpy</th>\n",
       "    </tr>\n",
       "  </thead>\n",
       "  <tbody>\n",
       "    <tr>\n",
       "      <th>0</th>\n",
       "      <td>90.380931</td>\n",
       "      <td>22.437184</td>\n",
       "      <td>Asia</td>\n",
       "      <td>Bangladesh</td>\n",
       "      <td>10/9/2020</td>\n",
       "      <td>41.6</td>\n",
       "      <td>12.8</td>\n",
       "      <td>0.00</td>\n",
       "      <td>2.3</td>\n",
       "      <td>1.7</td>\n",
       "      <td>12.7</td>\n",
       "      <td>19.1</td>\n",
       "      <td>25.5</td>\n",
       "      <td>15.7</td>\n",
       "      <td>0.00</td>\n",
       "      <td>147</td>\n",
       "      <td>2</td>\n",
       "      <td>27970.983100</td>\n",
       "      <td>3691.746950</td>\n",
       "      <td>1</td>\n",
       "    </tr>\n",
       "    <tr>\n",
       "      <th>1</th>\n",
       "      <td>87.854975</td>\n",
       "      <td>22.986757</td>\n",
       "      <td>Asia</td>\n",
       "      <td>India</td>\n",
       "      <td>20/12/2019</td>\n",
       "      <td>40.5</td>\n",
       "      <td>13.3</td>\n",
       "      <td>0.00</td>\n",
       "      <td>2.4</td>\n",
       "      <td>0.0</td>\n",
       "      <td>13.2</td>\n",
       "      <td>19.8</td>\n",
       "      <td>26.5</td>\n",
       "      <td>16.3</td>\n",
       "      <td>0.00</td>\n",
       "      <td>145</td>\n",
       "      <td>2</td>\n",
       "      <td>25063.646690</td>\n",
       "      <td>671.326701</td>\n",
       "      <td>1</td>\n",
       "    </tr>\n",
       "    <tr>\n",
       "      <th>2</th>\n",
       "      <td>85.279935</td>\n",
       "      <td>23.610181</td>\n",
       "      <td>Asia</td>\n",
       "      <td>India</td>\n",
       "      <td>20/12/2019</td>\n",
       "      <td>27.3</td>\n",
       "      <td>13.6</td>\n",
       "      <td>0.08</td>\n",
       "      <td>2.3</td>\n",
       "      <td>0.6</td>\n",
       "      <td>9.4</td>\n",
       "      <td>16.2</td>\n",
       "      <td>23.0</td>\n",
       "      <td>13.0</td>\n",
       "      <td>0.98</td>\n",
       "      <td>158</td>\n",
       "      <td>2</td>\n",
       "      <td>6038.477155</td>\n",
       "      <td>1426.839831</td>\n",
       "      <td>1</td>\n",
       "    </tr>\n",
       "    <tr>\n",
       "      <th>3</th>\n",
       "      <td>81.564510</td>\n",
       "      <td>43.882221</td>\n",
       "      <td>Asia</td>\n",
       "      <td>China</td>\n",
       "      <td>25/10/2019</td>\n",
       "      <td>45.3</td>\n",
       "      <td>12.8</td>\n",
       "      <td>31.00</td>\n",
       "      <td>0.4</td>\n",
       "      <td>8.8</td>\n",
       "      <td>-22.5</td>\n",
       "      <td>-16.1</td>\n",
       "      <td>-9.7</td>\n",
       "      <td>0.9</td>\n",
       "      <td>4.64</td>\n",
       "      <td>178</td>\n",
       "      <td>2</td>\n",
       "      <td>760.703340</td>\n",
       "      <td>0.000000</td>\n",
       "      <td>1</td>\n",
       "    </tr>\n",
       "    <tr>\n",
       "      <th>4</th>\n",
       "      <td>81.161057</td>\n",
       "      <td>43.834976</td>\n",
       "      <td>Asia</td>\n",
       "      <td>China</td>\n",
       "      <td>25/10/2019</td>\n",
       "      <td>38.8</td>\n",
       "      <td>13.2</td>\n",
       "      <td>31.00</td>\n",
       "      <td>0.4</td>\n",
       "      <td>10.5</td>\n",
       "      <td>-20.4</td>\n",
       "      <td>-13.8</td>\n",
       "      <td>-7.2</td>\n",
       "      <td>1.2</td>\n",
       "      <td>1.69</td>\n",
       "      <td>185</td>\n",
       "      <td>3</td>\n",
       "      <td>270.367426</td>\n",
       "      <td>0.000000</td>\n",
       "      <td>1</td>\n",
       "    </tr>\n",
       "  </tbody>\n",
       "</table>\n",
       "</div>"
      ],
      "text/plain": [
       "           x          y region     country reportingDate   cld   dtr    frs  \\\n",
       "0  90.380931  22.437184   Asia  Bangladesh     10/9/2020  41.6  12.8   0.00   \n",
       "1  87.854975  22.986757   Asia       India    20/12/2019  40.5  13.3   0.00   \n",
       "2  85.279935  23.610181   Asia       India    20/12/2019  27.3  13.6   0.08   \n",
       "3  81.564510  43.882221   Asia       China    25/10/2019  45.3  12.8  31.00   \n",
       "4  81.161057  43.834976   Asia       China    25/10/2019  38.8  13.2  31.00   \n",
       "\n",
       "   pet   pre   tmn   tmp   tmx   vap   wet  elevation  dominant_land_cover  \\\n",
       "0  2.3   1.7  12.7  19.1  25.5  15.7  0.00        147                    2   \n",
       "1  2.4   0.0  13.2  19.8  26.5  16.3  0.00        145                    2   \n",
       "2  2.3   0.6   9.4  16.2  23.0  13.0  0.98        158                    2   \n",
       "3  0.4   8.8 -22.5 -16.1  -9.7   0.9  4.64        178                    2   \n",
       "4  0.4  10.5 -20.4 -13.8  -7.2   1.2  1.69        185                    3   \n",
       "\n",
       "   X5_Ct_2010_Da  X5_Bf_2010_Da  lumpy  \n",
       "0   27970.983100    3691.746950      1  \n",
       "1   25063.646690     671.326701      1  \n",
       "2    6038.477155    1426.839831      1  \n",
       "3     760.703340       0.000000      1  \n",
       "4     270.367426       0.000000      1  "
      ]
     },
     "execution_count": 24,
     "metadata": {},
     "output_type": "execute_result"
    }
   ],
   "source": [
    "data=pd.read_csv(r\"../input/lumpy-skin-disease-dataset/Lumpy skin disease data.csv\")\n",
    "data.head()"
   ]
  },
  {
   "cell_type": "code",
   "execution_count": 25,
   "metadata": {
    "execution": {
     "iopub.execute_input": "2024-05-25T20:01:57.682977Z",
     "iopub.status.busy": "2024-05-25T20:01:57.682544Z",
     "iopub.status.idle": "2024-05-25T20:01:57.712565Z",
     "shell.execute_reply": "2024-05-25T20:01:57.711151Z",
     "shell.execute_reply.started": "2024-05-25T20:01:57.682942Z"
    }
   },
   "outputs": [
    {
     "data": {
      "text/html": [
       "<div>\n",
       "<style scoped>\n",
       "    .dataframe tbody tr th:only-of-type {\n",
       "        vertical-align: middle;\n",
       "    }\n",
       "\n",
       "    .dataframe tbody tr th {\n",
       "        vertical-align: top;\n",
       "    }\n",
       "\n",
       "    .dataframe thead th {\n",
       "        text-align: right;\n",
       "    }\n",
       "</style>\n",
       "<table border=\"1\" class=\"dataframe\">\n",
       "  <thead>\n",
       "    <tr style=\"text-align: right;\">\n",
       "      <th></th>\n",
       "      <th>x</th>\n",
       "      <th>y</th>\n",
       "      <th>cld</th>\n",
       "      <th>dtr</th>\n",
       "      <th>frs</th>\n",
       "      <th>pet</th>\n",
       "      <th>pre</th>\n",
       "      <th>tmn</th>\n",
       "      <th>tmp</th>\n",
       "      <th>tmx</th>\n",
       "      <th>vap</th>\n",
       "      <th>wet</th>\n",
       "      <th>elevation</th>\n",
       "      <th>dominant_land_cover</th>\n",
       "      <th>X5_Ct_2010_Da</th>\n",
       "      <th>X5_Bf_2010_Da</th>\n",
       "      <th>lumpy</th>\n",
       "    </tr>\n",
       "  </thead>\n",
       "  <tbody>\n",
       "    <tr>\n",
       "      <th>0</th>\n",
       "      <td>90.380931</td>\n",
       "      <td>22.437184</td>\n",
       "      <td>41.6</td>\n",
       "      <td>12.8</td>\n",
       "      <td>0.00</td>\n",
       "      <td>2.3</td>\n",
       "      <td>1.7</td>\n",
       "      <td>12.7</td>\n",
       "      <td>19.1</td>\n",
       "      <td>25.5</td>\n",
       "      <td>15.7</td>\n",
       "      <td>0.00</td>\n",
       "      <td>147</td>\n",
       "      <td>2</td>\n",
       "      <td>27970.983100</td>\n",
       "      <td>3691.746950</td>\n",
       "      <td>1</td>\n",
       "    </tr>\n",
       "    <tr>\n",
       "      <th>1</th>\n",
       "      <td>87.854975</td>\n",
       "      <td>22.986757</td>\n",
       "      <td>40.5</td>\n",
       "      <td>13.3</td>\n",
       "      <td>0.00</td>\n",
       "      <td>2.4</td>\n",
       "      <td>0.0</td>\n",
       "      <td>13.2</td>\n",
       "      <td>19.8</td>\n",
       "      <td>26.5</td>\n",
       "      <td>16.3</td>\n",
       "      <td>0.00</td>\n",
       "      <td>145</td>\n",
       "      <td>2</td>\n",
       "      <td>25063.646690</td>\n",
       "      <td>671.326701</td>\n",
       "      <td>1</td>\n",
       "    </tr>\n",
       "    <tr>\n",
       "      <th>2</th>\n",
       "      <td>85.279935</td>\n",
       "      <td>23.610181</td>\n",
       "      <td>27.3</td>\n",
       "      <td>13.6</td>\n",
       "      <td>0.08</td>\n",
       "      <td>2.3</td>\n",
       "      <td>0.6</td>\n",
       "      <td>9.4</td>\n",
       "      <td>16.2</td>\n",
       "      <td>23.0</td>\n",
       "      <td>13.0</td>\n",
       "      <td>0.98</td>\n",
       "      <td>158</td>\n",
       "      <td>2</td>\n",
       "      <td>6038.477155</td>\n",
       "      <td>1426.839831</td>\n",
       "      <td>1</td>\n",
       "    </tr>\n",
       "    <tr>\n",
       "      <th>3</th>\n",
       "      <td>81.564510</td>\n",
       "      <td>43.882221</td>\n",
       "      <td>45.3</td>\n",
       "      <td>12.8</td>\n",
       "      <td>31.00</td>\n",
       "      <td>0.4</td>\n",
       "      <td>8.8</td>\n",
       "      <td>-22.5</td>\n",
       "      <td>-16.1</td>\n",
       "      <td>-9.7</td>\n",
       "      <td>0.9</td>\n",
       "      <td>4.64</td>\n",
       "      <td>178</td>\n",
       "      <td>2</td>\n",
       "      <td>760.703340</td>\n",
       "      <td>0.000000</td>\n",
       "      <td>1</td>\n",
       "    </tr>\n",
       "    <tr>\n",
       "      <th>4</th>\n",
       "      <td>81.161057</td>\n",
       "      <td>43.834976</td>\n",
       "      <td>38.8</td>\n",
       "      <td>13.2</td>\n",
       "      <td>31.00</td>\n",
       "      <td>0.4</td>\n",
       "      <td>10.5</td>\n",
       "      <td>-20.4</td>\n",
       "      <td>-13.8</td>\n",
       "      <td>-7.2</td>\n",
       "      <td>1.2</td>\n",
       "      <td>1.69</td>\n",
       "      <td>185</td>\n",
       "      <td>3</td>\n",
       "      <td>270.367426</td>\n",
       "      <td>0.000000</td>\n",
       "      <td>1</td>\n",
       "    </tr>\n",
       "  </tbody>\n",
       "</table>\n",
       "</div>"
      ],
      "text/plain": [
       "           x          y   cld   dtr    frs  pet   pre   tmn   tmp   tmx   vap  \\\n",
       "0  90.380931  22.437184  41.6  12.8   0.00  2.3   1.7  12.7  19.1  25.5  15.7   \n",
       "1  87.854975  22.986757  40.5  13.3   0.00  2.4   0.0  13.2  19.8  26.5  16.3   \n",
       "2  85.279935  23.610181  27.3  13.6   0.08  2.3   0.6   9.4  16.2  23.0  13.0   \n",
       "3  81.564510  43.882221  45.3  12.8  31.00  0.4   8.8 -22.5 -16.1  -9.7   0.9   \n",
       "4  81.161057  43.834976  38.8  13.2  31.00  0.4  10.5 -20.4 -13.8  -7.2   1.2   \n",
       "\n",
       "    wet  elevation  dominant_land_cover  X5_Ct_2010_Da  X5_Bf_2010_Da  lumpy  \n",
       "0  0.00        147                    2   27970.983100    3691.746950      1  \n",
       "1  0.00        145                    2   25063.646690     671.326701      1  \n",
       "2  0.98        158                    2    6038.477155    1426.839831      1  \n",
       "3  4.64        178                    2     760.703340       0.000000      1  \n",
       "4  1.69        185                    3     270.367426       0.000000      1  "
      ]
     },
     "execution_count": 25,
     "metadata": {},
     "output_type": "execute_result"
    }
   ],
   "source": [
    "data=data.drop(['region','country','reportingDate'],axis=1)\n",
    "data.head()"
   ]
  },
  {
   "cell_type": "code",
   "execution_count": 26,
   "metadata": {
    "execution": {
     "iopub.execute_input": "2024-05-25T20:01:58.112669Z",
     "iopub.status.busy": "2024-05-25T20:01:58.112207Z",
     "iopub.status.idle": "2024-05-25T20:01:58.134542Z",
     "shell.execute_reply": "2024-05-25T20:01:58.133216Z",
     "shell.execute_reply.started": "2024-05-25T20:01:58.112631Z"
    }
   },
   "outputs": [
    {
     "name": "stdout",
     "output_type": "stream",
     "text": [
      "<class 'pandas.core.frame.DataFrame'>\n",
      "RangeIndex: 24803 entries, 0 to 24802\n",
      "Data columns (total 17 columns):\n",
      " #   Column               Non-Null Count  Dtype  \n",
      "---  ------               --------------  -----  \n",
      " 0   x                    24803 non-null  float64\n",
      " 1   y                    24803 non-null  float64\n",
      " 2   cld                  24803 non-null  float64\n",
      " 3   dtr                  24803 non-null  float64\n",
      " 4   frs                  24803 non-null  float64\n",
      " 5   pet                  24803 non-null  float64\n",
      " 6   pre                  24803 non-null  float64\n",
      " 7   tmn                  24803 non-null  float64\n",
      " 8   tmp                  24803 non-null  float64\n",
      " 9   tmx                  24803 non-null  float64\n",
      " 10  vap                  24803 non-null  float64\n",
      " 11  wet                  24803 non-null  float64\n",
      " 12  elevation            24803 non-null  int64  \n",
      " 13  dominant_land_cover  24803 non-null  int64  \n",
      " 14  X5_Ct_2010_Da        24803 non-null  float64\n",
      " 15  X5_Bf_2010_Da        24803 non-null  float64\n",
      " 16  lumpy                24803 non-null  int64  \n",
      "dtypes: float64(14), int64(3)\n",
      "memory usage: 3.2 MB\n"
     ]
    }
   ],
   "source": [
    "data.info()"
   ]
  },
  {
   "cell_type": "code",
   "execution_count": 27,
   "metadata": {
    "execution": {
     "iopub.execute_input": "2024-05-25T20:01:58.672872Z",
     "iopub.status.busy": "2024-05-25T20:01:58.672159Z",
     "iopub.status.idle": "2024-05-25T20:01:58.750421Z",
     "shell.execute_reply": "2024-05-25T20:01:58.749299Z",
     "shell.execute_reply.started": "2024-05-25T20:01:58.672833Z"
    }
   },
   "outputs": [
    {
     "data": {
      "text/html": [
       "<div>\n",
       "<style scoped>\n",
       "    .dataframe tbody tr th:only-of-type {\n",
       "        vertical-align: middle;\n",
       "    }\n",
       "\n",
       "    .dataframe tbody tr th {\n",
       "        vertical-align: top;\n",
       "    }\n",
       "\n",
       "    .dataframe thead th {\n",
       "        text-align: right;\n",
       "    }\n",
       "</style>\n",
       "<table border=\"1\" class=\"dataframe\">\n",
       "  <thead>\n",
       "    <tr style=\"text-align: right;\">\n",
       "      <th></th>\n",
       "      <th>x</th>\n",
       "      <th>y</th>\n",
       "      <th>cld</th>\n",
       "      <th>dtr</th>\n",
       "      <th>frs</th>\n",
       "      <th>pet</th>\n",
       "      <th>pre</th>\n",
       "      <th>tmn</th>\n",
       "      <th>tmp</th>\n",
       "      <th>tmx</th>\n",
       "      <th>vap</th>\n",
       "      <th>wet</th>\n",
       "      <th>elevation</th>\n",
       "      <th>dominant_land_cover</th>\n",
       "      <th>X5_Ct_2010_Da</th>\n",
       "      <th>X5_Bf_2010_Da</th>\n",
       "      <th>lumpy</th>\n",
       "    </tr>\n",
       "  </thead>\n",
       "  <tbody>\n",
       "    <tr>\n",
       "      <th>count</th>\n",
       "      <td>24803.000000</td>\n",
       "      <td>24803.000000</td>\n",
       "      <td>24803.000000</td>\n",
       "      <td>24803.000000</td>\n",
       "      <td>24803.000000</td>\n",
       "      <td>24803.000000</td>\n",
       "      <td>24803.000000</td>\n",
       "      <td>24803.000000</td>\n",
       "      <td>24803.000000</td>\n",
       "      <td>24803.000000</td>\n",
       "      <td>24803.000000</td>\n",
       "      <td>24803.000000</td>\n",
       "      <td>24803.000000</td>\n",
       "      <td>24803.000000</td>\n",
       "      <td>24803.000000</td>\n",
       "      <td>24803.000000</td>\n",
       "      <td>24803.000000</td>\n",
       "    </tr>\n",
       "    <tr>\n",
       "      <th>mean</th>\n",
       "      <td>79.221374</td>\n",
       "      <td>46.370056</td>\n",
       "      <td>59.452159</td>\n",
       "      <td>9.107777</td>\n",
       "      <td>23.978048</td>\n",
       "      <td>0.803487</td>\n",
       "      <td>26.271137</td>\n",
       "      <td>-15.794755</td>\n",
       "      <td>-11.227807</td>\n",
       "      <td>-6.681212</td>\n",
       "      <td>3.728230</td>\n",
       "      <td>8.542482</td>\n",
       "      <td>164.769302</td>\n",
       "      <td>4.416119</td>\n",
       "      <td>629.129412</td>\n",
       "      <td>170.306057</td>\n",
       "      <td>0.122526</td>\n",
       "    </tr>\n",
       "    <tr>\n",
       "      <th>std</th>\n",
       "      <td>43.338530</td>\n",
       "      <td>19.220555</td>\n",
       "      <td>19.423029</td>\n",
       "      <td>2.988448</td>\n",
       "      <td>11.518315</td>\n",
       "      <td>1.172915</td>\n",
       "      <td>33.630747</td>\n",
       "      <td>17.587685</td>\n",
       "      <td>17.989715</td>\n",
       "      <td>18.540915</td>\n",
       "      <td>4.952353</td>\n",
       "      <td>6.205199</td>\n",
       "      <td>19.679197</td>\n",
       "      <td>2.406231</td>\n",
       "      <td>2279.198775</td>\n",
       "      <td>1127.977653</td>\n",
       "      <td>0.327898</td>\n",
       "    </tr>\n",
       "    <tr>\n",
       "      <th>min</th>\n",
       "      <td>-179.750000</td>\n",
       "      <td>-28.750000</td>\n",
       "      <td>0.000000</td>\n",
       "      <td>2.000000</td>\n",
       "      <td>0.000000</td>\n",
       "      <td>0.000000</td>\n",
       "      <td>0.000000</td>\n",
       "      <td>-52.100000</td>\n",
       "      <td>-48.100000</td>\n",
       "      <td>-44.200000</td>\n",
       "      <td>0.000000</td>\n",
       "      <td>0.000000</td>\n",
       "      <td>66.000000</td>\n",
       "      <td>0.000000</td>\n",
       "      <td>0.000000</td>\n",
       "      <td>0.000000</td>\n",
       "      <td>0.000000</td>\n",
       "    </tr>\n",
       "    <tr>\n",
       "      <th>25%</th>\n",
       "      <td>45.083150</td>\n",
       "      <td>34.750000</td>\n",
       "      <td>43.800000</td>\n",
       "      <td>6.800000</td>\n",
       "      <td>23.210000</td>\n",
       "      <td>0.000000</td>\n",
       "      <td>5.900000</td>\n",
       "      <td>-30.100000</td>\n",
       "      <td>-25.500000</td>\n",
       "      <td>-20.900000</td>\n",
       "      <td>0.400000</td>\n",
       "      <td>3.000000</td>\n",
       "      <td>152.000000</td>\n",
       "      <td>3.000000</td>\n",
       "      <td>2.513366</td>\n",
       "      <td>0.000000</td>\n",
       "      <td>0.000000</td>\n",
       "    </tr>\n",
       "    <tr>\n",
       "      <th>50%</th>\n",
       "      <td>80.750000</td>\n",
       "      <td>48.250000</td>\n",
       "      <td>62.300000</td>\n",
       "      <td>8.300000</td>\n",
       "      <td>31.000000</td>\n",
       "      <td>0.200000</td>\n",
       "      <td>14.700000</td>\n",
       "      <td>-19.100000</td>\n",
       "      <td>-14.200000</td>\n",
       "      <td>-9.700000</td>\n",
       "      <td>1.500000</td>\n",
       "      <td>8.020000</td>\n",
       "      <td>161.000000</td>\n",
       "      <td>4.000000</td>\n",
       "      <td>43.383823</td>\n",
       "      <td>0.000197</td>\n",
       "      <td>0.000000</td>\n",
       "    </tr>\n",
       "    <tr>\n",
       "      <th>75%</th>\n",
       "      <td>109.750000</td>\n",
       "      <td>61.750000</td>\n",
       "      <td>75.300000</td>\n",
       "      <td>11.100000</td>\n",
       "      <td>31.000000</td>\n",
       "      <td>1.100000</td>\n",
       "      <td>33.400000</td>\n",
       "      <td>-2.200000</td>\n",
       "      <td>1.400000</td>\n",
       "      <td>4.900000</td>\n",
       "      <td>4.800000</td>\n",
       "      <td>12.710000</td>\n",
       "      <td>176.000000</td>\n",
       "      <td>4.000000</td>\n",
       "      <td>386.124908</td>\n",
       "      <td>0.002094</td>\n",
       "      <td>0.000000</td>\n",
       "    </tr>\n",
       "    <tr>\n",
       "      <th>max</th>\n",
       "      <td>179.750000</td>\n",
       "      <td>81.750000</td>\n",
       "      <td>98.700000</td>\n",
       "      <td>20.600000</td>\n",
       "      <td>31.000000</td>\n",
       "      <td>7.500000</td>\n",
       "      <td>341.900000</td>\n",
       "      <td>23.900000</td>\n",
       "      <td>28.500000</td>\n",
       "      <td>36.400000</td>\n",
       "      <td>28.600000</td>\n",
       "      <td>30.920000</td>\n",
       "      <td>249.000000</td>\n",
       "      <td>11.000000</td>\n",
       "      <td>167388.672700</td>\n",
       "      <td>56654.780150</td>\n",
       "      <td>1.000000</td>\n",
       "    </tr>\n",
       "  </tbody>\n",
       "</table>\n",
       "</div>"
      ],
      "text/plain": [
       "                  x             y           cld           dtr           frs  \\\n",
       "count  24803.000000  24803.000000  24803.000000  24803.000000  24803.000000   \n",
       "mean      79.221374     46.370056     59.452159      9.107777     23.978048   \n",
       "std       43.338530     19.220555     19.423029      2.988448     11.518315   \n",
       "min     -179.750000    -28.750000      0.000000      2.000000      0.000000   \n",
       "25%       45.083150     34.750000     43.800000      6.800000     23.210000   \n",
       "50%       80.750000     48.250000     62.300000      8.300000     31.000000   \n",
       "75%      109.750000     61.750000     75.300000     11.100000     31.000000   \n",
       "max      179.750000     81.750000     98.700000     20.600000     31.000000   \n",
       "\n",
       "                pet           pre           tmn           tmp           tmx  \\\n",
       "count  24803.000000  24803.000000  24803.000000  24803.000000  24803.000000   \n",
       "mean       0.803487     26.271137    -15.794755    -11.227807     -6.681212   \n",
       "std        1.172915     33.630747     17.587685     17.989715     18.540915   \n",
       "min        0.000000      0.000000    -52.100000    -48.100000    -44.200000   \n",
       "25%        0.000000      5.900000    -30.100000    -25.500000    -20.900000   \n",
       "50%        0.200000     14.700000    -19.100000    -14.200000     -9.700000   \n",
       "75%        1.100000     33.400000     -2.200000      1.400000      4.900000   \n",
       "max        7.500000    341.900000     23.900000     28.500000     36.400000   \n",
       "\n",
       "                vap           wet     elevation  dominant_land_cover  \\\n",
       "count  24803.000000  24803.000000  24803.000000         24803.000000   \n",
       "mean       3.728230      8.542482    164.769302             4.416119   \n",
       "std        4.952353      6.205199     19.679197             2.406231   \n",
       "min        0.000000      0.000000     66.000000             0.000000   \n",
       "25%        0.400000      3.000000    152.000000             3.000000   \n",
       "50%        1.500000      8.020000    161.000000             4.000000   \n",
       "75%        4.800000     12.710000    176.000000             4.000000   \n",
       "max       28.600000     30.920000    249.000000            11.000000   \n",
       "\n",
       "       X5_Ct_2010_Da  X5_Bf_2010_Da         lumpy  \n",
       "count   24803.000000   24803.000000  24803.000000  \n",
       "mean      629.129412     170.306057      0.122526  \n",
       "std      2279.198775    1127.977653      0.327898  \n",
       "min         0.000000       0.000000      0.000000  \n",
       "25%         2.513366       0.000000      0.000000  \n",
       "50%        43.383823       0.000197      0.000000  \n",
       "75%       386.124908       0.002094      0.000000  \n",
       "max    167388.672700   56654.780150      1.000000  "
      ]
     },
     "execution_count": 27,
     "metadata": {},
     "output_type": "execute_result"
    }
   ],
   "source": [
    "data.describe()"
   ]
  },
  {
   "cell_type": "code",
   "execution_count": 28,
   "metadata": {
    "execution": {
     "iopub.execute_input": "2024-05-25T20:01:59.633390Z",
     "iopub.status.busy": "2024-05-25T20:01:59.632969Z",
     "iopub.status.idle": "2024-05-25T20:01:59.684117Z",
     "shell.execute_reply": "2024-05-25T20:01:59.682849Z",
     "shell.execute_reply.started": "2024-05-25T20:01:59.633354Z"
    }
   },
   "outputs": [
    {
     "name": "stdout",
     "output_type": "stream",
     "text": [
      "<class 'pandas.core.frame.DataFrame'>\n",
      "Int64Index: 23726 entries, 0 to 24802\n",
      "Data columns (total 17 columns):\n",
      " #   Column               Non-Null Count  Dtype  \n",
      "---  ------               --------------  -----  \n",
      " 0   x                    23726 non-null  float64\n",
      " 1   y                    23726 non-null  float64\n",
      " 2   cld                  23726 non-null  float64\n",
      " 3   dtr                  23726 non-null  float64\n",
      " 4   frs                  23726 non-null  float64\n",
      " 5   pet                  23726 non-null  float64\n",
      " 6   pre                  23726 non-null  float64\n",
      " 7   tmn                  23726 non-null  float64\n",
      " 8   tmp                  23726 non-null  float64\n",
      " 9   tmx                  23726 non-null  float64\n",
      " 10  vap                  23726 non-null  float64\n",
      " 11  wet                  23726 non-null  float64\n",
      " 12  elevation            23726 non-null  int64  \n",
      " 13  dominant_land_cover  23726 non-null  int64  \n",
      " 14  X5_Ct_2010_Da        23726 non-null  float64\n",
      " 15  X5_Bf_2010_Da        23726 non-null  float64\n",
      " 16  lumpy                23726 non-null  int64  \n",
      "dtypes: float64(14), int64(3)\n",
      "memory usage: 3.3 MB\n"
     ]
    }
   ],
   "source": [
    "data.duplicated()\n",
    "data=data.drop_duplicates()\n",
    "data.info()"
   ]
  },
  {
   "cell_type": "code",
   "execution_count": 29,
   "metadata": {
    "execution": {
     "iopub.execute_input": "2024-05-25T20:02:04.273493Z",
     "iopub.status.busy": "2024-05-25T20:02:04.273028Z",
     "iopub.status.idle": "2024-05-25T20:02:04.284457Z",
     "shell.execute_reply": "2024-05-25T20:02:04.282626Z",
     "shell.execute_reply.started": "2024-05-25T20:02:04.273457Z"
    }
   },
   "outputs": [
    {
     "name": "stdout",
     "output_type": "stream",
     "text": [
      "0        0.884949\n",
      "1        0.941290\n",
      "2        1.617371\n",
      "3        0.695442\n",
      "4        1.028361\n",
      "           ...   \n",
      "24798    0.508188\n",
      "24799    0.508188\n",
      "24800    0.508188\n",
      "24801    0.508188\n",
      "24802    0.441604\n",
      "Name: cld, Length: 23726, dtype: float64\n"
     ]
    }
   ],
   "source": [
    "z = np.abs(stats.zscore(data['cld']))\n",
    "print(z)"
   ]
  },
  {
   "cell_type": "code",
   "execution_count": 30,
   "metadata": {
    "execution": {
     "iopub.execute_input": "2024-05-25T20:03:16.780656Z",
     "iopub.status.busy": "2024-05-25T20:03:16.780115Z",
     "iopub.status.idle": "2024-05-25T20:03:16.792212Z",
     "shell.execute_reply": "2024-05-25T20:03:16.790973Z",
     "shell.execute_reply.started": "2024-05-25T20:03:16.780617Z"
    }
   },
   "outputs": [
    {
     "name": "stdout",
     "output_type": "stream",
     "text": [
      "cld [17665]\n"
     ]
    }
   ],
   "source": [
    "out=np.where(z>3)[0]\n",
    "print('cld'+ \" \"+str(out))\n",
    "data['cld']=data['cld'].drop(out)"
   ]
  },
  {
   "cell_type": "code",
   "execution_count": 31,
   "metadata": {
    "execution": {
     "iopub.execute_input": "2024-05-25T20:03:19.457755Z",
     "iopub.status.busy": "2024-05-25T20:03:19.457333Z",
     "iopub.status.idle": "2024-05-25T20:03:19.471634Z",
     "shell.execute_reply": "2024-05-25T20:03:19.470440Z",
     "shell.execute_reply.started": "2024-05-25T20:03:19.457718Z"
    }
   },
   "outputs": [
    {
     "name": "stdout",
     "output_type": "stream",
     "text": [
      "dtr [17840 17841 17842 17843 17856 17857 17858 17859 17872 17873 17874 17875\n",
      " 17889 19403 19437 19438 19441 19442 19443 19444 19472 19473 19474 19475\n",
      " 19476 19477 19478 19479 19480 19481 19510 19609 19610 19664 19665 19827\n",
      " 20683 20691 20697 22055 22056 22057 22100 22101 22102 22103 22144 22145\n",
      " 22146 22147 22148 22187 22188 22189 22190 22191 22192 22233 22234 22235\n",
      " 22236 22237 22238 22279 22280 22281 22282 22283 22284 22324 22325 22326\n",
      " 22327 22328 22329 22371 22372 22373 22374 22375 22420 22421 22422 22423\n",
      " 22470 22471]\n"
     ]
    }
   ],
   "source": [
    "z = np.abs(stats.zscore(data['dtr']))\n",
    "out=np.where(z>3)[0]\n",
    "print('dtr'+ \" \"+str(out))\n",
    "data['dtr']=data['dtr'].drop(out)"
   ]
  },
  {
   "cell_type": "code",
   "execution_count": 32,
   "metadata": {
    "execution": {
     "iopub.execute_input": "2024-05-25T20:03:20.614215Z",
     "iopub.status.busy": "2024-05-25T20:03:20.613789Z",
     "iopub.status.idle": "2024-05-25T20:03:20.626426Z",
     "shell.execute_reply": "2024-05-25T20:03:20.624935Z",
     "shell.execute_reply.started": "2024-05-25T20:03:20.614180Z"
    }
   },
   "outputs": [
    {
     "name": "stdout",
     "output_type": "stream",
     "text": [
      "frs []\n"
     ]
    }
   ],
   "source": [
    "z = np.abs(stats.zscore(data['frs']))\n",
    "out=np.where(z>3)[0]\n",
    "print('frs'+ \" \"+str(out))\n",
    "data['frs']=data['frs'].drop(out)"
   ]
  },
  {
   "cell_type": "code",
   "execution_count": 33,
   "metadata": {
    "execution": {
     "iopub.execute_input": "2024-05-25T20:03:21.333613Z",
     "iopub.status.busy": "2024-05-25T20:03:21.333137Z",
     "iopub.status.idle": "2024-05-25T20:03:21.345367Z",
     "shell.execute_reply": "2024-05-25T20:03:21.343945Z",
     "shell.execute_reply.started": "2024-05-25T20:03:21.333576Z"
    }
   },
   "outputs": [
    {
     "name": "stdout",
     "output_type": "stream",
     "text": [
      "tmn []\n"
     ]
    }
   ],
   "source": [
    "z = np.abs(stats.zscore(data['tmn']))\n",
    "out=np.where(z>3)[0]\n",
    "print('tmn'+ \" \"+str(out))\n",
    "data['tmn']=data['tmn'].drop(out)"
   ]
  },
  {
   "cell_type": "code",
   "execution_count": 34,
   "metadata": {
    "execution": {
     "iopub.execute_input": "2024-05-25T20:03:21.999008Z",
     "iopub.status.busy": "2024-05-25T20:03:21.998277Z",
     "iopub.status.idle": "2024-05-25T20:03:22.011060Z",
     "shell.execute_reply": "2024-05-25T20:03:22.009712Z",
     "shell.execute_reply.started": "2024-05-25T20:03:21.998956Z"
    }
   },
   "outputs": [
    {
     "name": "stdout",
     "output_type": "stream",
     "text": [
      "tmp []\n"
     ]
    }
   ],
   "source": [
    "z = np.abs(stats.zscore(data['tmp']))\n",
    "out=np.where(z>3)[0]\n",
    "print('tmp'+ \" \"+str(out))\n",
    "data['tmp']=data['tmp'].drop(out)"
   ]
  },
  {
   "cell_type": "code",
   "execution_count": 35,
   "metadata": {
    "execution": {
     "iopub.execute_input": "2024-05-25T20:03:22.458705Z",
     "iopub.status.busy": "2024-05-25T20:03:22.457872Z",
     "iopub.status.idle": "2024-05-25T20:03:22.469628Z",
     "shell.execute_reply": "2024-05-25T20:03:22.468210Z",
     "shell.execute_reply.started": "2024-05-25T20:03:22.458658Z"
    }
   },
   "outputs": [
    {
     "name": "stdout",
     "output_type": "stream",
     "text": [
      "tmx []\n"
     ]
    }
   ],
   "source": [
    "z = np.abs(stats.zscore(data['tmx']))\n",
    "out=np.where(z>3)[0]\n",
    "print('tmx'+ \" \"+str(out))\n",
    "data['tmx']=data['tmx'].drop(out)"
   ]
  },
  {
   "cell_type": "code",
   "execution_count": 36,
   "metadata": {
    "execution": {
     "iopub.execute_input": "2024-05-25T20:03:23.093780Z",
     "iopub.status.busy": "2024-05-25T20:03:23.093103Z",
     "iopub.status.idle": "2024-05-25T20:03:23.104711Z",
     "shell.execute_reply": "2024-05-25T20:03:23.103909Z",
     "shell.execute_reply.started": "2024-05-25T20:03:23.093742Z"
    }
   },
   "outputs": [
    {
     "name": "stdout",
     "output_type": "stream",
     "text": [
      "wet [23240 23255 23256]\n"
     ]
    }
   ],
   "source": [
    "z = np.abs(stats.zscore(data['wet']))\n",
    "out=np.where(z>3)[0]\n",
    "print('wet'+ \" \"+str(out))\n",
    "data['wet']=data['wet'].drop(out)"
   ]
  },
  {
   "cell_type": "code",
   "execution_count": null,
   "metadata": {},
   "outputs": [],
   "source": []
  },
  {
   "cell_type": "code",
   "execution_count": 37,
   "metadata": {
    "execution": {
     "iopub.execute_input": "2024-05-25T20:03:32.313458Z",
     "iopub.status.busy": "2024-05-25T20:03:32.313067Z",
     "iopub.status.idle": "2024-05-25T20:03:32.325336Z",
     "shell.execute_reply": "2024-05-25T20:03:32.323964Z",
     "shell.execute_reply.started": "2024-05-25T20:03:32.313427Z"
    }
   },
   "outputs": [
    {
     "name": "stdout",
     "output_type": "stream",
     "text": [
      "dominant_land_cover []\n"
     ]
    }
   ],
   "source": [
    "z = np.abs(stats.zscore(data['dominant_land_cover']))\n",
    "out=np.where(z>3)[0]\n",
    "print('dominant_land_cover'+ \" \"+str(out))\n",
    "data['dominant_land_cover']=data['dominant_land_cover'].drop(out)"
   ]
  },
  {
   "cell_type": "code",
   "execution_count": 38,
   "metadata": {
    "execution": {
     "iopub.execute_input": "2024-05-25T20:03:35.213266Z",
     "iopub.status.busy": "2024-05-25T20:03:35.212451Z",
     "iopub.status.idle": "2024-05-25T20:03:35.228363Z",
     "shell.execute_reply": "2024-05-25T20:03:35.227365Z",
     "shell.execute_reply.started": "2024-05-25T20:03:35.213226Z"
    }
   },
   "outputs": [
    {
     "name": "stdout",
     "output_type": "stream",
     "text": [
      "<class 'pandas.core.frame.DataFrame'>\n",
      "Int64Index: 23726 entries, 0 to 24802\n",
      "Data columns (total 17 columns):\n",
      " #   Column               Non-Null Count  Dtype  \n",
      "---  ------               --------------  -----  \n",
      " 0   x                    23726 non-null  float64\n",
      " 1   y                    23726 non-null  float64\n",
      " 2   cld                  23725 non-null  float64\n",
      " 3   dtr                  23640 non-null  float64\n",
      " 4   frs                  23726 non-null  float64\n",
      " 5   pet                  23726 non-null  float64\n",
      " 6   pre                  23726 non-null  float64\n",
      " 7   tmn                  23726 non-null  float64\n",
      " 8   tmp                  23726 non-null  float64\n",
      " 9   tmx                  23726 non-null  float64\n",
      " 10  vap                  23726 non-null  float64\n",
      " 11  wet                  23723 non-null  float64\n",
      " 12  elevation            23726 non-null  int64  \n",
      " 13  dominant_land_cover  23726 non-null  int64  \n",
      " 14  X5_Ct_2010_Da        23726 non-null  float64\n",
      " 15  X5_Bf_2010_Da        23726 non-null  float64\n",
      " 16  lumpy                23726 non-null  int64  \n",
      "dtypes: float64(14), int64(3)\n",
      "memory usage: 3.8 MB\n"
     ]
    }
   ],
   "source": [
    "data.info()"
   ]
  },
  {
   "cell_type": "code",
   "execution_count": 39,
   "metadata": {
    "execution": {
     "iopub.execute_input": "2024-05-25T20:03:35.683837Z",
     "iopub.status.busy": "2024-05-25T20:03:35.683148Z",
     "iopub.status.idle": "2024-05-25T20:03:35.702871Z",
     "shell.execute_reply": "2024-05-25T20:03:35.701687Z",
     "shell.execute_reply.started": "2024-05-25T20:03:35.683795Z"
    }
   },
   "outputs": [
    {
     "data": {
      "text/plain": [
       "x                      0\n",
       "y                      0\n",
       "cld                    0\n",
       "dtr                    0\n",
       "frs                    0\n",
       "pet                    0\n",
       "pre                    0\n",
       "tmn                    0\n",
       "tmp                    0\n",
       "tmx                    0\n",
       "vap                    0\n",
       "wet                    0\n",
       "elevation              0\n",
       "dominant_land_cover    0\n",
       "X5_Ct_2010_Da          0\n",
       "X5_Bf_2010_Da          0\n",
       "lumpy                  0\n",
       "dtype: int64"
      ]
     },
     "execution_count": 39,
     "metadata": {},
     "output_type": "execute_result"
    }
   ],
   "source": [
    "data=data.fillna(method='bfill')\n",
    "data.isnull().sum()"
   ]
  },
  {
   "cell_type": "code",
   "execution_count": 40,
   "metadata": {
    "execution": {
     "iopub.execute_input": "2024-05-25T20:03:36.799080Z",
     "iopub.status.busy": "2024-05-25T20:03:36.798462Z",
     "iopub.status.idle": "2024-05-25T20:03:36.814585Z",
     "shell.execute_reply": "2024-05-25T20:03:36.813209Z",
     "shell.execute_reply.started": "2024-05-25T20:03:36.799043Z"
    }
   },
   "outputs": [
    {
     "name": "stdout",
     "output_type": "stream",
     "text": [
      "<class 'pandas.core.frame.DataFrame'>\n",
      "Int64Index: 23726 entries, 0 to 24802\n",
      "Data columns (total 17 columns):\n",
      " #   Column               Non-Null Count  Dtype  \n",
      "---  ------               --------------  -----  \n",
      " 0   x                    23726 non-null  float64\n",
      " 1   y                    23726 non-null  float64\n",
      " 2   cld                  23726 non-null  float64\n",
      " 3   dtr                  23726 non-null  float64\n",
      " 4   frs                  23726 non-null  float64\n",
      " 5   pet                  23726 non-null  float64\n",
      " 6   pre                  23726 non-null  float64\n",
      " 7   tmn                  23726 non-null  float64\n",
      " 8   tmp                  23726 non-null  float64\n",
      " 9   tmx                  23726 non-null  float64\n",
      " 10  vap                  23726 non-null  float64\n",
      " 11  wet                  23726 non-null  float64\n",
      " 12  elevation            23726 non-null  int64  \n",
      " 13  dominant_land_cover  23726 non-null  int64  \n",
      " 14  X5_Ct_2010_Da        23726 non-null  float64\n",
      " 15  X5_Bf_2010_Da        23726 non-null  float64\n",
      " 16  lumpy                23726 non-null  int64  \n",
      "dtypes: float64(14), int64(3)\n",
      "memory usage: 3.8 MB\n"
     ]
    }
   ],
   "source": [
    "data.info()"
   ]
  },
  {
   "cell_type": "code",
   "execution_count": 41,
   "metadata": {
    "execution": {
     "iopub.execute_input": "2024-05-25T20:03:50.234138Z",
     "iopub.status.busy": "2024-05-25T20:03:50.233340Z",
     "iopub.status.idle": "2024-05-25T20:03:50.316536Z",
     "shell.execute_reply": "2024-05-25T20:03:50.315100Z",
     "shell.execute_reply.started": "2024-05-25T20:03:50.234082Z"
    }
   },
   "outputs": [
    {
     "data": {
      "text/html": [
       "<div>\n",
       "<style scoped>\n",
       "    .dataframe tbody tr th:only-of-type {\n",
       "        vertical-align: middle;\n",
       "    }\n",
       "\n",
       "    .dataframe tbody tr th {\n",
       "        vertical-align: top;\n",
       "    }\n",
       "\n",
       "    .dataframe thead th {\n",
       "        text-align: right;\n",
       "    }\n",
       "</style>\n",
       "<table border=\"1\" class=\"dataframe\">\n",
       "  <thead>\n",
       "    <tr style=\"text-align: right;\">\n",
       "      <th></th>\n",
       "      <th>x</th>\n",
       "      <th>y</th>\n",
       "      <th>cld</th>\n",
       "      <th>dtr</th>\n",
       "      <th>frs</th>\n",
       "      <th>pet</th>\n",
       "      <th>pre</th>\n",
       "      <th>tmn</th>\n",
       "      <th>tmp</th>\n",
       "      <th>tmx</th>\n",
       "      <th>vap</th>\n",
       "      <th>wet</th>\n",
       "      <th>elevation</th>\n",
       "      <th>dominant_land_cover</th>\n",
       "      <th>X5_Ct_2010_Da</th>\n",
       "      <th>X5_Bf_2010_Da</th>\n",
       "      <th>lumpy</th>\n",
       "    </tr>\n",
       "  </thead>\n",
       "  <tbody>\n",
       "    <tr>\n",
       "      <th>count</th>\n",
       "      <td>23726.000000</td>\n",
       "      <td>23726.000000</td>\n",
       "      <td>23726.000000</td>\n",
       "      <td>23726.000000</td>\n",
       "      <td>23726.000000</td>\n",
       "      <td>23726.000000</td>\n",
       "      <td>23726.00000</td>\n",
       "      <td>23726.000000</td>\n",
       "      <td>23726.000000</td>\n",
       "      <td>23726.000000</td>\n",
       "      <td>23726.000000</td>\n",
       "      <td>23726.000000</td>\n",
       "      <td>23726.000000</td>\n",
       "      <td>23726.000000</td>\n",
       "      <td>23726.000000</td>\n",
       "      <td>23726.000000</td>\n",
       "      <td>23726.000000</td>\n",
       "    </tr>\n",
       "    <tr>\n",
       "      <th>mean</th>\n",
       "      <td>81.650640</td>\n",
       "      <td>46.713851</td>\n",
       "      <td>58.878049</td>\n",
       "      <td>9.186369</td>\n",
       "      <td>24.323759</td>\n",
       "      <td>0.790706</td>\n",
       "      <td>23.66997</td>\n",
       "      <td>-16.532134</td>\n",
       "      <td>-11.925200</td>\n",
       "      <td>-7.341225</td>\n",
       "      <td>3.606567</td>\n",
       "      <td>8.429518</td>\n",
       "      <td>165.048639</td>\n",
       "      <td>4.462109</td>\n",
       "      <td>607.376686</td>\n",
       "      <td>177.387344</td>\n",
       "      <td>0.082694</td>\n",
       "    </tr>\n",
       "    <tr>\n",
       "      <th>std</th>\n",
       "      <td>42.662488</td>\n",
       "      <td>19.523079</td>\n",
       "      <td>19.524745</td>\n",
       "      <td>3.020401</td>\n",
       "      <td>11.445471</td>\n",
       "      <td>1.191336</td>\n",
       "      <td>31.18951</td>\n",
       "      <td>17.584537</td>\n",
       "      <td>18.034221</td>\n",
       "      <td>18.631599</td>\n",
       "      <td>4.988081</td>\n",
       "      <td>6.294418</td>\n",
       "      <td>19.667688</td>\n",
       "      <td>2.428974</td>\n",
       "      <td>2306.953489</td>\n",
       "      <td>1151.199706</td>\n",
       "      <td>0.275425</td>\n",
       "    </tr>\n",
       "    <tr>\n",
       "      <th>min</th>\n",
       "      <td>-179.750000</td>\n",
       "      <td>-28.750000</td>\n",
       "      <td>0.000000</td>\n",
       "      <td>2.000000</td>\n",
       "      <td>0.000000</td>\n",
       "      <td>0.000000</td>\n",
       "      <td>0.00000</td>\n",
       "      <td>-52.100000</td>\n",
       "      <td>-48.100000</td>\n",
       "      <td>-44.200000</td>\n",
       "      <td>0.000000</td>\n",
       "      <td>0.000000</td>\n",
       "      <td>66.000000</td>\n",
       "      <td>0.000000</td>\n",
       "      <td>0.000000</td>\n",
       "      <td>0.000000</td>\n",
       "      <td>0.000000</td>\n",
       "    </tr>\n",
       "    <tr>\n",
       "      <th>25%</th>\n",
       "      <td>47.937766</td>\n",
       "      <td>34.750000</td>\n",
       "      <td>43.100000</td>\n",
       "      <td>6.900000</td>\n",
       "      <td>24.030000</td>\n",
       "      <td>0.000000</td>\n",
       "      <td>5.50000</td>\n",
       "      <td>-31.000000</td>\n",
       "      <td>-26.300000</td>\n",
       "      <td>-21.500000</td>\n",
       "      <td>0.400000</td>\n",
       "      <td>2.800000</td>\n",
       "      <td>152.000000</td>\n",
       "      <td>3.000000</td>\n",
       "      <td>2.297115</td>\n",
       "      <td>0.000000</td>\n",
       "      <td>0.000000</td>\n",
       "    </tr>\n",
       "    <tr>\n",
       "      <th>50%</th>\n",
       "      <td>82.750000</td>\n",
       "      <td>49.750000</td>\n",
       "      <td>61.400000</td>\n",
       "      <td>8.300000</td>\n",
       "      <td>31.000000</td>\n",
       "      <td>0.200000</td>\n",
       "      <td>13.80000</td>\n",
       "      <td>-20.300000</td>\n",
       "      <td>-15.300000</td>\n",
       "      <td>-10.800000</td>\n",
       "      <td>1.300000</td>\n",
       "      <td>7.710000</td>\n",
       "      <td>161.000000</td>\n",
       "      <td>4.000000</td>\n",
       "      <td>33.212788</td>\n",
       "      <td>0.000219</td>\n",
       "      <td>0.000000</td>\n",
       "    </tr>\n",
       "    <tr>\n",
       "      <th>75%</th>\n",
       "      <td>111.250000</td>\n",
       "      <td>62.250000</td>\n",
       "      <td>74.800000</td>\n",
       "      <td>11.300000</td>\n",
       "      <td>31.000000</td>\n",
       "      <td>1.100000</td>\n",
       "      <td>29.80000</td>\n",
       "      <td>-2.900000</td>\n",
       "      <td>0.700000</td>\n",
       "      <td>4.300000</td>\n",
       "      <td>4.600000</td>\n",
       "      <td>12.787500</td>\n",
       "      <td>176.000000</td>\n",
       "      <td>4.000000</td>\n",
       "      <td>301.749631</td>\n",
       "      <td>0.002289</td>\n",
       "      <td>0.000000</td>\n",
       "    </tr>\n",
       "    <tr>\n",
       "      <th>max</th>\n",
       "      <td>179.750000</td>\n",
       "      <td>81.750000</td>\n",
       "      <td>98.700000</td>\n",
       "      <td>20.600000</td>\n",
       "      <td>31.000000</td>\n",
       "      <td>7.500000</td>\n",
       "      <td>341.90000</td>\n",
       "      <td>23.900000</td>\n",
       "      <td>28.500000</td>\n",
       "      <td>36.400000</td>\n",
       "      <td>28.600000</td>\n",
       "      <td>30.920000</td>\n",
       "      <td>249.000000</td>\n",
       "      <td>11.000000</td>\n",
       "      <td>167388.672700</td>\n",
       "      <td>56654.780150</td>\n",
       "      <td>1.000000</td>\n",
       "    </tr>\n",
       "  </tbody>\n",
       "</table>\n",
       "</div>"
      ],
      "text/plain": [
       "                  x             y           cld           dtr           frs  \\\n",
       "count  23726.000000  23726.000000  23726.000000  23726.000000  23726.000000   \n",
       "mean      81.650640     46.713851     58.878049      9.186369     24.323759   \n",
       "std       42.662488     19.523079     19.524745      3.020401     11.445471   \n",
       "min     -179.750000    -28.750000      0.000000      2.000000      0.000000   \n",
       "25%       47.937766     34.750000     43.100000      6.900000     24.030000   \n",
       "50%       82.750000     49.750000     61.400000      8.300000     31.000000   \n",
       "75%      111.250000     62.250000     74.800000     11.300000     31.000000   \n",
       "max      179.750000     81.750000     98.700000     20.600000     31.000000   \n",
       "\n",
       "                pet          pre           tmn           tmp           tmx  \\\n",
       "count  23726.000000  23726.00000  23726.000000  23726.000000  23726.000000   \n",
       "mean       0.790706     23.66997    -16.532134    -11.925200     -7.341225   \n",
       "std        1.191336     31.18951     17.584537     18.034221     18.631599   \n",
       "min        0.000000      0.00000    -52.100000    -48.100000    -44.200000   \n",
       "25%        0.000000      5.50000    -31.000000    -26.300000    -21.500000   \n",
       "50%        0.200000     13.80000    -20.300000    -15.300000    -10.800000   \n",
       "75%        1.100000     29.80000     -2.900000      0.700000      4.300000   \n",
       "max        7.500000    341.90000     23.900000     28.500000     36.400000   \n",
       "\n",
       "                vap           wet     elevation  dominant_land_cover  \\\n",
       "count  23726.000000  23726.000000  23726.000000         23726.000000   \n",
       "mean       3.606567      8.429518    165.048639             4.462109   \n",
       "std        4.988081      6.294418     19.667688             2.428974   \n",
       "min        0.000000      0.000000     66.000000             0.000000   \n",
       "25%        0.400000      2.800000    152.000000             3.000000   \n",
       "50%        1.300000      7.710000    161.000000             4.000000   \n",
       "75%        4.600000     12.787500    176.000000             4.000000   \n",
       "max       28.600000     30.920000    249.000000            11.000000   \n",
       "\n",
       "       X5_Ct_2010_Da  X5_Bf_2010_Da         lumpy  \n",
       "count   23726.000000   23726.000000  23726.000000  \n",
       "mean      607.376686     177.387344      0.082694  \n",
       "std      2306.953489    1151.199706      0.275425  \n",
       "min         0.000000       0.000000      0.000000  \n",
       "25%         2.297115       0.000000      0.000000  \n",
       "50%        33.212788       0.000219      0.000000  \n",
       "75%       301.749631       0.002289      0.000000  \n",
       "max    167388.672700   56654.780150      1.000000  "
      ]
     },
     "execution_count": 41,
     "metadata": {},
     "output_type": "execute_result"
    }
   ],
   "source": [
    "data.describe()"
   ]
  },
  {
   "cell_type": "code",
   "execution_count": 42,
   "metadata": {
    "execution": {
     "iopub.execute_input": "2024-05-25T20:03:51.352202Z",
     "iopub.status.busy": "2024-05-25T20:03:51.351759Z",
     "iopub.status.idle": "2024-05-25T20:03:51.381818Z",
     "shell.execute_reply": "2024-05-25T20:03:51.380485Z",
     "shell.execute_reply.started": "2024-05-25T20:03:51.352167Z"
    }
   },
   "outputs": [
    {
     "data": {
      "text/html": [
       "<div>\n",
       "<style scoped>\n",
       "    .dataframe tbody tr th:only-of-type {\n",
       "        vertical-align: middle;\n",
       "    }\n",
       "\n",
       "    .dataframe tbody tr th {\n",
       "        vertical-align: top;\n",
       "    }\n",
       "\n",
       "    .dataframe thead th {\n",
       "        text-align: right;\n",
       "    }\n",
       "</style>\n",
       "<table border=\"1\" class=\"dataframe\">\n",
       "  <thead>\n",
       "    <tr style=\"text-align: right;\">\n",
       "      <th></th>\n",
       "      <th>x</th>\n",
       "      <th>y</th>\n",
       "      <th>cld</th>\n",
       "      <th>dtr</th>\n",
       "      <th>frs</th>\n",
       "      <th>pet</th>\n",
       "      <th>pre</th>\n",
       "      <th>tmn</th>\n",
       "      <th>tmp</th>\n",
       "      <th>tmx</th>\n",
       "      <th>vap</th>\n",
       "      <th>wet</th>\n",
       "      <th>elevation</th>\n",
       "      <th>dominant_land_cover</th>\n",
       "      <th>X5_Ct_2010_Da</th>\n",
       "      <th>X5_Bf_2010_Da</th>\n",
       "      <th>lumpy</th>\n",
       "    </tr>\n",
       "  </thead>\n",
       "  <tbody>\n",
       "    <tr>\n",
       "      <th>0</th>\n",
       "      <td>90.380931</td>\n",
       "      <td>22.437184</td>\n",
       "      <td>41.6</td>\n",
       "      <td>12.8</td>\n",
       "      <td>0.00</td>\n",
       "      <td>2.3</td>\n",
       "      <td>1.7</td>\n",
       "      <td>12.7</td>\n",
       "      <td>19.1</td>\n",
       "      <td>25.5</td>\n",
       "      <td>15.7</td>\n",
       "      <td>0.00</td>\n",
       "      <td>147</td>\n",
       "      <td>2</td>\n",
       "      <td>27970.983100</td>\n",
       "      <td>3691.746950</td>\n",
       "      <td>1</td>\n",
       "    </tr>\n",
       "    <tr>\n",
       "      <th>1</th>\n",
       "      <td>87.854975</td>\n",
       "      <td>22.986757</td>\n",
       "      <td>40.5</td>\n",
       "      <td>13.3</td>\n",
       "      <td>0.00</td>\n",
       "      <td>2.4</td>\n",
       "      <td>0.0</td>\n",
       "      <td>13.2</td>\n",
       "      <td>19.8</td>\n",
       "      <td>26.5</td>\n",
       "      <td>16.3</td>\n",
       "      <td>0.00</td>\n",
       "      <td>145</td>\n",
       "      <td>2</td>\n",
       "      <td>25063.646690</td>\n",
       "      <td>671.326701</td>\n",
       "      <td>1</td>\n",
       "    </tr>\n",
       "    <tr>\n",
       "      <th>2</th>\n",
       "      <td>85.279935</td>\n",
       "      <td>23.610181</td>\n",
       "      <td>27.3</td>\n",
       "      <td>13.6</td>\n",
       "      <td>0.08</td>\n",
       "      <td>2.3</td>\n",
       "      <td>0.6</td>\n",
       "      <td>9.4</td>\n",
       "      <td>16.2</td>\n",
       "      <td>23.0</td>\n",
       "      <td>13.0</td>\n",
       "      <td>0.98</td>\n",
       "      <td>158</td>\n",
       "      <td>2</td>\n",
       "      <td>6038.477155</td>\n",
       "      <td>1426.839831</td>\n",
       "      <td>1</td>\n",
       "    </tr>\n",
       "    <tr>\n",
       "      <th>3</th>\n",
       "      <td>81.564510</td>\n",
       "      <td>43.882221</td>\n",
       "      <td>45.3</td>\n",
       "      <td>12.8</td>\n",
       "      <td>31.00</td>\n",
       "      <td>0.4</td>\n",
       "      <td>8.8</td>\n",
       "      <td>-22.5</td>\n",
       "      <td>-16.1</td>\n",
       "      <td>-9.7</td>\n",
       "      <td>0.9</td>\n",
       "      <td>4.64</td>\n",
       "      <td>178</td>\n",
       "      <td>2</td>\n",
       "      <td>760.703340</td>\n",
       "      <td>0.000000</td>\n",
       "      <td>1</td>\n",
       "    </tr>\n",
       "    <tr>\n",
       "      <th>4</th>\n",
       "      <td>81.161057</td>\n",
       "      <td>43.834976</td>\n",
       "      <td>38.8</td>\n",
       "      <td>13.2</td>\n",
       "      <td>31.00</td>\n",
       "      <td>0.4</td>\n",
       "      <td>10.5</td>\n",
       "      <td>-20.4</td>\n",
       "      <td>-13.8</td>\n",
       "      <td>-7.2</td>\n",
       "      <td>1.2</td>\n",
       "      <td>1.69</td>\n",
       "      <td>185</td>\n",
       "      <td>3</td>\n",
       "      <td>270.367426</td>\n",
       "      <td>0.000000</td>\n",
       "      <td>1</td>\n",
       "    </tr>\n",
       "  </tbody>\n",
       "</table>\n",
       "</div>"
      ],
      "text/plain": [
       "           x          y   cld   dtr    frs  pet   pre   tmn   tmp   tmx   vap  \\\n",
       "0  90.380931  22.437184  41.6  12.8   0.00  2.3   1.7  12.7  19.1  25.5  15.7   \n",
       "1  87.854975  22.986757  40.5  13.3   0.00  2.4   0.0  13.2  19.8  26.5  16.3   \n",
       "2  85.279935  23.610181  27.3  13.6   0.08  2.3   0.6   9.4  16.2  23.0  13.0   \n",
       "3  81.564510  43.882221  45.3  12.8  31.00  0.4   8.8 -22.5 -16.1  -9.7   0.9   \n",
       "4  81.161057  43.834976  38.8  13.2  31.00  0.4  10.5 -20.4 -13.8  -7.2   1.2   \n",
       "\n",
       "    wet  elevation  dominant_land_cover  X5_Ct_2010_Da  X5_Bf_2010_Da  lumpy  \n",
       "0  0.00        147                    2   27970.983100    3691.746950      1  \n",
       "1  0.00        145                    2   25063.646690     671.326701      1  \n",
       "2  0.98        158                    2    6038.477155    1426.839831      1  \n",
       "3  4.64        178                    2     760.703340       0.000000      1  \n",
       "4  1.69        185                    3     270.367426       0.000000      1  "
      ]
     },
     "execution_count": 42,
     "metadata": {},
     "output_type": "execute_result"
    }
   ],
   "source": [
    "data.head()"
   ]
  },
  {
   "cell_type": "code",
   "execution_count": 43,
   "metadata": {
    "execution": {
     "iopub.execute_input": "2024-05-25T20:03:52.003036Z",
     "iopub.status.busy": "2024-05-25T20:03:52.002517Z",
     "iopub.status.idle": "2024-05-25T20:03:52.046585Z",
     "shell.execute_reply": "2024-05-25T20:03:52.045005Z",
     "shell.execute_reply.started": "2024-05-25T20:03:52.002999Z"
    }
   },
   "outputs": [
    {
     "data": {
      "text/html": [
       "<div>\n",
       "<style scoped>\n",
       "    .dataframe tbody tr th:only-of-type {\n",
       "        vertical-align: middle;\n",
       "    }\n",
       "\n",
       "    .dataframe tbody tr th {\n",
       "        vertical-align: top;\n",
       "    }\n",
       "\n",
       "    .dataframe thead th {\n",
       "        text-align: right;\n",
       "    }\n",
       "</style>\n",
       "<table border=\"1\" class=\"dataframe\">\n",
       "  <thead>\n",
       "    <tr style=\"text-align: right;\">\n",
       "      <th></th>\n",
       "      <th>x</th>\n",
       "      <th>y</th>\n",
       "      <th>cld</th>\n",
       "      <th>dtr</th>\n",
       "      <th>frs</th>\n",
       "      <th>pet</th>\n",
       "      <th>pre</th>\n",
       "      <th>tmn</th>\n",
       "      <th>tmp</th>\n",
       "      <th>tmx</th>\n",
       "      <th>vap</th>\n",
       "      <th>wet</th>\n",
       "      <th>elevation</th>\n",
       "      <th>dominant_land_cover</th>\n",
       "      <th>X5_Ct_2010_Da</th>\n",
       "      <th>X5_Bf_2010_Da</th>\n",
       "      <th>lumpy</th>\n",
       "    </tr>\n",
       "  </thead>\n",
       "  <tbody>\n",
       "    <tr>\n",
       "      <th>0</th>\n",
       "      <td>0.751407</td>\n",
       "      <td>0.463232</td>\n",
       "      <td>0.421479</td>\n",
       "      <td>0.580645</td>\n",
       "      <td>0.000000</td>\n",
       "      <td>0.306667</td>\n",
       "      <td>0.004972</td>\n",
       "      <td>0.852632</td>\n",
       "      <td>0.877285</td>\n",
       "      <td>0.864764</td>\n",
       "      <td>0.548951</td>\n",
       "      <td>0.000000</td>\n",
       "      <td>0.442623</td>\n",
       "      <td>0.181818</td>\n",
       "      <td>0.167102</td>\n",
       "      <td>0.065162</td>\n",
       "      <td>1.0</td>\n",
       "    </tr>\n",
       "    <tr>\n",
       "      <th>1</th>\n",
       "      <td>0.744381</td>\n",
       "      <td>0.468206</td>\n",
       "      <td>0.410334</td>\n",
       "      <td>0.607527</td>\n",
       "      <td>0.000000</td>\n",
       "      <td>0.320000</td>\n",
       "      <td>0.000000</td>\n",
       "      <td>0.859211</td>\n",
       "      <td>0.886423</td>\n",
       "      <td>0.877171</td>\n",
       "      <td>0.569930</td>\n",
       "      <td>0.000000</td>\n",
       "      <td>0.431694</td>\n",
       "      <td>0.181818</td>\n",
       "      <td>0.149733</td>\n",
       "      <td>0.011849</td>\n",
       "      <td>1.0</td>\n",
       "    </tr>\n",
       "    <tr>\n",
       "      <th>2</th>\n",
       "      <td>0.737218</td>\n",
       "      <td>0.473848</td>\n",
       "      <td>0.276596</td>\n",
       "      <td>0.623656</td>\n",
       "      <td>0.002581</td>\n",
       "      <td>0.306667</td>\n",
       "      <td>0.001755</td>\n",
       "      <td>0.809211</td>\n",
       "      <td>0.839426</td>\n",
       "      <td>0.833747</td>\n",
       "      <td>0.454545</td>\n",
       "      <td>0.031695</td>\n",
       "      <td>0.502732</td>\n",
       "      <td>0.181818</td>\n",
       "      <td>0.036075</td>\n",
       "      <td>0.025185</td>\n",
       "      <td>1.0</td>\n",
       "    </tr>\n",
       "    <tr>\n",
       "      <th>3</th>\n",
       "      <td>0.726883</td>\n",
       "      <td>0.657305</td>\n",
       "      <td>0.458967</td>\n",
       "      <td>0.580645</td>\n",
       "      <td>1.000000</td>\n",
       "      <td>0.053333</td>\n",
       "      <td>0.025739</td>\n",
       "      <td>0.389474</td>\n",
       "      <td>0.417755</td>\n",
       "      <td>0.428040</td>\n",
       "      <td>0.031469</td>\n",
       "      <td>0.150065</td>\n",
       "      <td>0.612022</td>\n",
       "      <td>0.181818</td>\n",
       "      <td>0.004545</td>\n",
       "      <td>0.000000</td>\n",
       "      <td>1.0</td>\n",
       "    </tr>\n",
       "    <tr>\n",
       "      <th>4</th>\n",
       "      <td>0.725761</td>\n",
       "      <td>0.656878</td>\n",
       "      <td>0.393110</td>\n",
       "      <td>0.602151</td>\n",
       "      <td>1.000000</td>\n",
       "      <td>0.053333</td>\n",
       "      <td>0.030711</td>\n",
       "      <td>0.417105</td>\n",
       "      <td>0.447781</td>\n",
       "      <td>0.459057</td>\n",
       "      <td>0.041958</td>\n",
       "      <td>0.054657</td>\n",
       "      <td>0.650273</td>\n",
       "      <td>0.272727</td>\n",
       "      <td>0.001615</td>\n",
       "      <td>0.000000</td>\n",
       "      <td>1.0</td>\n",
       "    </tr>\n",
       "  </tbody>\n",
       "</table>\n",
       "</div>"
      ],
      "text/plain": [
       "          x         y       cld       dtr       frs       pet       pre  \\\n",
       "0  0.751407  0.463232  0.421479  0.580645  0.000000  0.306667  0.004972   \n",
       "1  0.744381  0.468206  0.410334  0.607527  0.000000  0.320000  0.000000   \n",
       "2  0.737218  0.473848  0.276596  0.623656  0.002581  0.306667  0.001755   \n",
       "3  0.726883  0.657305  0.458967  0.580645  1.000000  0.053333  0.025739   \n",
       "4  0.725761  0.656878  0.393110  0.602151  1.000000  0.053333  0.030711   \n",
       "\n",
       "        tmn       tmp       tmx       vap       wet  elevation  \\\n",
       "0  0.852632  0.877285  0.864764  0.548951  0.000000   0.442623   \n",
       "1  0.859211  0.886423  0.877171  0.569930  0.000000   0.431694   \n",
       "2  0.809211  0.839426  0.833747  0.454545  0.031695   0.502732   \n",
       "3  0.389474  0.417755  0.428040  0.031469  0.150065   0.612022   \n",
       "4  0.417105  0.447781  0.459057  0.041958  0.054657   0.650273   \n",
       "\n",
       "   dominant_land_cover  X5_Ct_2010_Da  X5_Bf_2010_Da  lumpy  \n",
       "0             0.181818       0.167102       0.065162    1.0  \n",
       "1             0.181818       0.149733       0.011849    1.0  \n",
       "2             0.181818       0.036075       0.025185    1.0  \n",
       "3             0.181818       0.004545       0.000000    1.0  \n",
       "4             0.272727       0.001615       0.000000    1.0  "
      ]
     },
     "execution_count": 43,
     "metadata": {},
     "output_type": "execute_result"
    }
   ],
   "source": [
    "for column in data.columns:\n",
    "    data[column] = (data[column] - data[column].min()) / (data[column].max() - data[column].min()) \n",
    "data.head()"
   ]
  },
  {
   "cell_type": "code",
   "execution_count": 44,
   "metadata": {
    "execution": {
     "iopub.execute_input": "2024-05-25T20:03:53.132613Z",
     "iopub.status.busy": "2024-05-25T20:03:53.132198Z",
     "iopub.status.idle": "2024-05-25T20:03:53.152998Z",
     "shell.execute_reply": "2024-05-25T20:03:53.151556Z",
     "shell.execute_reply.started": "2024-05-25T20:03:53.132581Z"
    }
   },
   "outputs": [
    {
     "name": "stdout",
     "output_type": "stream",
     "text": [
      "<class 'pandas.core.frame.DataFrame'>\n",
      "Int64Index: 23726 entries, 0 to 24802\n",
      "Data columns (total 17 columns):\n",
      " #   Column               Non-Null Count  Dtype  \n",
      "---  ------               --------------  -----  \n",
      " 0   x                    23726 non-null  float64\n",
      " 1   y                    23726 non-null  float64\n",
      " 2   cld                  23726 non-null  float64\n",
      " 3   dtr                  23726 non-null  float64\n",
      " 4   frs                  23726 non-null  float64\n",
      " 5   pet                  23726 non-null  float64\n",
      " 6   pre                  23726 non-null  float64\n",
      " 7   tmn                  23726 non-null  float64\n",
      " 8   tmp                  23726 non-null  float64\n",
      " 9   tmx                  23726 non-null  float64\n",
      " 10  vap                  23726 non-null  float64\n",
      " 11  wet                  23726 non-null  float64\n",
      " 12  elevation            23726 non-null  float64\n",
      " 13  dominant_land_cover  23726 non-null  float64\n",
      " 14  X5_Ct_2010_Da        23726 non-null  float64\n",
      " 15  X5_Bf_2010_Da        23726 non-null  float64\n",
      " 16  lumpy                23726 non-null  float64\n",
      "dtypes: float64(17)\n",
      "memory usage: 3.8 MB\n"
     ]
    }
   ],
   "source": [
    "data.info()"
   ]
  },
  {
   "cell_type": "code",
   "execution_count": 45,
   "metadata": {
    "execution": {
     "iopub.execute_input": "2024-05-25T20:03:53.953637Z",
     "iopub.status.busy": "2024-05-25T20:03:53.953123Z",
     "iopub.status.idle": "2024-05-25T20:03:54.570146Z",
     "shell.execute_reply": "2024-05-25T20:03:54.569017Z",
     "shell.execute_reply.started": "2024-05-25T20:03:53.953598Z"
    }
   },
   "outputs": [],
   "source": [
    "df = pd.DataFrame(data)\n",
    "\n",
    "# Export the Pandas DataFrame to a CSV file.\n",
    "df.to_csv('dataset.csv', index=False)\n"
   ]
  },
  {
   "cell_type": "code",
   "execution_count": 46,
   "metadata": {
    "execution": {
     "iopub.execute_input": "2024-05-25T20:03:54.802232Z",
     "iopub.status.busy": "2024-05-25T20:03:54.801818Z",
     "iopub.status.idle": "2024-05-25T20:03:57.266320Z",
     "shell.execute_reply": "2024-05-25T20:03:57.265045Z",
     "shell.execute_reply.started": "2024-05-25T20:03:54.802199Z"
    }
   },
   "outputs": [
    {
     "data": {
      "image/png": "[encoded data removed]",
      "text/plain": [
       "<Figure size 1080x1080 with 14 Axes>"
      ]
     },
     "metadata": {
      "needs_background": "light"
     },
     "output_type": "display_data"
    }
   ],
   "source": [
    "import matplotlib.pyplot as plt\n",
    "import pandas as pd\n",
    "\n",
    "\n",
    "features_to_plot = [col for col in df.columns if col not in ['x', 'y', 'lumpy']]\n",
    "\n",
    "\n",
    "plt.figure(figsize=(15, 15))\n",
    "\n",
    "# Create separate scatterplots for each feature against 'lumpy'\n",
    "for i, feature in enumerate(features_to_plot, 1):\n",
    "    plt.subplot(4, 4, i)  \n",
    "    plt.scatter(df[feature], df['lumpy'], alpha=0.3)\n",
    "    plt.xlabel(feature)\n",
    "    plt.ylabel('lumpy')\n",
    "\n",
    "plt.tight_layout()  \n",
    "plt.show()\n"
   ]
  },
  {
   "cell_type": "code",
   "execution_count": 47,
   "metadata": {
    "execution": {
     "iopub.execute_input": "2024-05-25T20:04:02.965133Z",
     "iopub.status.busy": "2024-05-25T20:04:02.964592Z",
     "iopub.status.idle": "2024-05-25T20:04:04.952583Z",
     "shell.execute_reply": "2024-05-25T20:04:04.951366Z",
     "shell.execute_reply.started": "2024-05-25T20:04:02.965093Z"
    }
   },
   "outputs": [
    {
     "data": {
      "image/png": "[encoded data removed]",
      "text/plain": [
       "<Figure size 432x288 with 8 Axes>"
      ]
     },
     "metadata": {
      "needs_background": "light"
     },
     "output_type": "display_data"
    },
    {
     "data": {
      "image/png": "[encoded data removed]",
      "text/plain": [
       "<Figure size 432x288 with 9 Axes>"
      ]
     },
     "metadata": {
      "needs_background": "light"
     },
     "output_type": "display_data"
    }
   ],
   "source": [
    "\n",
    "# Create a subplot grid with 4 rows and 2 columns\n",
    "fig, axes = plt.subplots(4, 2)\n",
    "\n",
    "# Create a histogram of each feature in a separate subplot\n",
    "for i in range(4):\n",
    "    for j in range(2):\n",
    "        feature = df.columns[i * 2 + j]\n",
    "        axes[i, j].hist(df[feature])\n",
    "        axes[i, j].set_title(feature)\n",
    "\n",
    "# Tighten the layout of the subplots\n",
    "plt.tight_layout()\n",
    "\n",
    "# Display the plot\n",
    "plt.show()\n",
    "\n",
    "\n",
    "remaining_columns = list(df.columns[8:])\n",
    "\n",
    "\n",
    "num_features = len(remaining_columns)\n",
    "num_rows = int(num_features ** 0.5)\n",
    "num_cols = int(num_features / num_rows)\n",
    "\n",
    "fig, axes = plt.subplots(num_rows, num_cols)\n",
    "\n",
    "\n",
    "for i in range(num_rows):\n",
    "    for j in range(num_cols):\n",
    "        feature = remaining_columns[i * num_cols + j]\n",
    "        axes[i, j].hist(df[feature])\n",
    "        axes[i, j].set_title(feature)\n",
    "\n",
    "\n",
    "plt.tight_layout()\n",
    "\n",
    "\n",
    "plt.show()"
   ]
  },
  {
   "cell_type": "code",
   "execution_count": 48,
   "metadata": {
    "execution": {
     "iopub.execute_input": "2024-05-25T20:04:04.954832Z",
     "iopub.status.busy": "2024-05-25T20:04:04.954496Z",
     "iopub.status.idle": "2024-05-25T20:04:04.965799Z",
     "shell.execute_reply": "2024-05-25T20:04:04.964568Z",
     "shell.execute_reply.started": "2024-05-25T20:04:04.954800Z"
    }
   },
   "outputs": [
    {
     "data": {
      "text/plain": [
       "0        1.0\n",
       "1        1.0\n",
       "2        1.0\n",
       "3        1.0\n",
       "4        1.0\n",
       "        ... \n",
       "24798    0.0\n",
       "24799    0.0\n",
       "24800    0.0\n",
       "24801    0.0\n",
       "24802    0.0\n",
       "Name: lumpy, Length: 23726, dtype: float64"
      ]
     },
     "execution_count": 48,
     "metadata": {},
     "output_type": "execute_result"
    }
   ],
   "source": [
    "x = data.iloc[:,:-1]\n",
    "y = data.iloc[: ,-1]\n",
    "y"
   ]
  },
  {
   "cell_type": "code",
   "execution_count": 49,
   "metadata": {
    "execution": {
     "iopub.execute_input": "2024-05-25T20:04:05.138951Z",
     "iopub.status.busy": "2024-05-25T20:04:05.138098Z",
     "iopub.status.idle": "2024-05-25T20:04:05.294078Z",
     "shell.execute_reply": "2024-05-25T20:04:05.292905Z",
     "shell.execute_reply.started": "2024-05-25T20:04:05.138874Z"
    }
   },
   "outputs": [
    {
     "name": "stdout",
     "output_type": "stream",
     "text": [
      "(21353, 16)\n",
      "(21353,)\n",
      "(2373, 16)\n",
      "(2373,)\n"
     ]
    }
   ],
   "source": [
    "from sklearn.model_selection import train_test_split\n",
    "x_train,x_test,y_train,y_test=train_test_split(x,y,test_size=0.1,stratify=y)\n",
    "print(x_train.shape)\n",
    "print(y_train.shape)\n",
    "print(x_test.shape)\n",
    "print(y_test.shape)"
   ]
  },
  {
   "cell_type": "code",
   "execution_count": 50,
   "metadata": {
    "execution": {
     "iopub.execute_input": "2024-05-25T20:04:06.053790Z",
     "iopub.status.busy": "2024-05-25T20:04:06.053313Z",
     "iopub.status.idle": "2024-05-25T20:04:09.290699Z",
     "shell.execute_reply": "2024-05-25T20:04:09.289299Z",
     "shell.execute_reply.started": "2024-05-25T20:04:06.053743Z"
    }
   },
   "outputs": [
    {
     "data": {
      "text/plain": [
       "SVC(gamma=8)"
      ]
     },
     "execution_count": 50,
     "metadata": {},
     "output_type": "execute_result"
    }
   ],
   "source": [
    "from sklearn.svm import SVC\n",
    "\n",
    "svc_model = SVC(kernel='rbf',gamma=8)\n",
    "svc_model.fit(x_train, y_train)"
   ]
  },
  {
   "cell_type": "code",
   "execution_count": 51,
   "metadata": {
    "execution": {
     "iopub.execute_input": "2024-05-25T20:04:09.294170Z",
     "iopub.status.busy": "2024-05-25T20:04:09.293666Z",
     "iopub.status.idle": "2024-05-25T20:04:18.427763Z",
     "shell.execute_reply": "2024-05-25T20:04:18.426445Z",
     "shell.execute_reply.started": "2024-05-25T20:04:09.294122Z"
    }
   },
   "outputs": [
    {
     "name": "stdout",
     "output_type": "stream",
     "text": [
      "Training confusion matrix\n",
      "[[19343   244]\n",
      " [  452  1314]]\n",
      "validation confusion matrix\n",
      "[[2148   29]\n",
      " [  51  145]]\n",
      "training accuracy = 96.74050484709409\n",
      "testing accuracy = 96.62873999157185\n"
     ]
    }
   ],
   "source": [
    "from sklearn.metrics import accuracy_score, confusion_matrix\n",
    "predictions= svc_model .predict(x_train)\n",
    "percentage=svc_model.score(x_train,y_train)\n",
    "res=confusion_matrix(y_train,predictions)\n",
    "print(\"Training confusion matrix\")\n",
    "print(res)\n",
    "predictions= svc_model .predict(x_test)\n",
    "percentage=svc_model.score(x_test,y_test)\n",
    "res=confusion_matrix(y_test,predictions)\n",
    "print(\"validation confusion matrix\")\n",
    "print(res)\n",
    "\n",
    "print('training accuracy = '+str(svc_model.score(x_train, y_train)*100))\n",
    "print('testing accuracy = '+str(svc_model.score(x_test, y_test)*100))"
   ]
  },
  {
   "cell_type": "code",
   "execution_count": 58,
   "metadata": {
    "execution": {
     "iopub.execute_input": "2024-05-25T20:09:10.495000Z",
     "iopub.status.busy": "2024-05-25T20:09:10.493359Z",
     "iopub.status.idle": "2024-05-25T20:09:10.505504Z",
     "shell.execute_reply": "2024-05-25T20:09:10.503725Z",
     "shell.execute_reply.started": "2024-05-25T20:09:10.494925Z"
    }
   },
   "outputs": [
    {
     "data": {
      "text/plain": [
       "(Index(['x', 'y', 'cld', 'dtr', 'frs', 'pet', 'pre', 'tmn', 'tmp', 'tmx', 'vap',\n",
       "        'wet', 'elevation', 'dominant_land_cover', 'X5_Ct_2010_Da',\n",
       "        'X5_Bf_2010_Da'],\n",
       "       dtype='object'),\n",
       " (2373, 16))"
      ]
     },
     "execution_count": 58,
     "metadata": {},
     "output_type": "execute_result"
    }
   ],
   "source": [
    "x_test.columns, x_test.shape"
   ]
  },
  {
   "cell_type": "code",
   "execution_count": 57,
   "metadata": {
    "execution": {
     "iopub.execute_input": "2024-05-25T20:07:25.819528Z",
     "iopub.status.busy": "2024-05-25T20:07:25.819119Z",
     "iopub.status.idle": "2024-05-25T20:07:25.846549Z",
     "shell.execute_reply": "2024-05-25T20:07:25.845253Z",
     "shell.execute_reply.started": "2024-05-25T20:07:25.819494Z"
    }
   },
   "outputs": [
    {
     "data": {
      "text/html": [
       "<div>\n",
       "<style scoped>\n",
       "    .dataframe tbody tr th:only-of-type {\n",
       "        vertical-align: middle;\n",
       "    }\n",
       "\n",
       "    .dataframe tbody tr th {\n",
       "        vertical-align: top;\n",
       "    }\n",
       "\n",
       "    .dataframe thead th {\n",
       "        text-align: right;\n",
       "    }\n",
       "</style>\n",
       "<table border=\"1\" class=\"dataframe\">\n",
       "  <thead>\n",
       "    <tr style=\"text-align: right;\">\n",
       "      <th></th>\n",
       "      <th>x</th>\n",
       "      <th>y</th>\n",
       "      <th>cld</th>\n",
       "      <th>dtr</th>\n",
       "      <th>frs</th>\n",
       "      <th>pet</th>\n",
       "      <th>pre</th>\n",
       "      <th>tmn</th>\n",
       "      <th>tmp</th>\n",
       "      <th>tmx</th>\n",
       "      <th>vap</th>\n",
       "      <th>wet</th>\n",
       "      <th>elevation</th>\n",
       "      <th>dominant_land_cover</th>\n",
       "      <th>X5_Ct_2010_Da</th>\n",
       "      <th>X5_Bf_2010_Da</th>\n",
       "    </tr>\n",
       "  </thead>\n",
       "  <tbody>\n",
       "    <tr>\n",
       "      <th>823</th>\n",
       "      <td>0.555364</td>\n",
       "      <td>0.634104</td>\n",
       "      <td>0.720365</td>\n",
       "      <td>0.338710</td>\n",
       "      <td>0.397742</td>\n",
       "      <td>0.120000</td>\n",
       "      <td>0.303598</td>\n",
       "      <td>0.713158</td>\n",
       "      <td>0.708877</td>\n",
       "      <td>0.677419</td>\n",
       "      <td>0.241259</td>\n",
       "      <td>0.359314</td>\n",
       "      <td>0.568306</td>\n",
       "      <td>0.181818</td>\n",
       "      <td>9.146893e-03</td>\n",
       "      <td>0.000000e+00</td>\n",
       "    </tr>\n",
       "    <tr>\n",
       "      <th>22021</th>\n",
       "      <td>0.585535</td>\n",
       "      <td>0.497738</td>\n",
       "      <td>0.287741</td>\n",
       "      <td>0.784946</td>\n",
       "      <td>0.175161</td>\n",
       "      <td>0.440000</td>\n",
       "      <td>0.000585</td>\n",
       "      <td>0.751316</td>\n",
       "      <td>0.801567</td>\n",
       "      <td>0.816377</td>\n",
       "      <td>0.262238</td>\n",
       "      <td>0.000000</td>\n",
       "      <td>0.546448</td>\n",
       "      <td>0.818182</td>\n",
       "      <td>2.249352e-04</td>\n",
       "      <td>0.000000e+00</td>\n",
       "    </tr>\n",
       "    <tr>\n",
       "      <th>22033</th>\n",
       "      <td>0.577191</td>\n",
       "      <td>0.493213</td>\n",
       "      <td>0.245187</td>\n",
       "      <td>0.758065</td>\n",
       "      <td>0.168710</td>\n",
       "      <td>0.360000</td>\n",
       "      <td>0.002632</td>\n",
       "      <td>0.752632</td>\n",
       "      <td>0.798956</td>\n",
       "      <td>0.811414</td>\n",
       "      <td>0.265734</td>\n",
       "      <td>0.000000</td>\n",
       "      <td>0.546448</td>\n",
       "      <td>0.818182</td>\n",
       "      <td>1.635242e-04</td>\n",
       "      <td>0.000000e+00</td>\n",
       "    </tr>\n",
       "    <tr>\n",
       "      <th>8469</th>\n",
       "      <td>0.752434</td>\n",
       "      <td>0.855204</td>\n",
       "      <td>0.843972</td>\n",
       "      <td>0.225806</td>\n",
       "      <td>1.000000</td>\n",
       "      <td>0.013333</td>\n",
       "      <td>0.081018</td>\n",
       "      <td>0.269737</td>\n",
       "      <td>0.255875</td>\n",
       "      <td>0.233251</td>\n",
       "      <td>0.013986</td>\n",
       "      <td>0.647801</td>\n",
       "      <td>0.590164</td>\n",
       "      <td>0.363636</td>\n",
       "      <td>4.327112e-05</td>\n",
       "      <td>2.593621e-09</td>\n",
       "    </tr>\n",
       "    <tr>\n",
       "      <th>21436</th>\n",
       "      <td>0.732962</td>\n",
       "      <td>0.429864</td>\n",
       "      <td>0.253293</td>\n",
       "      <td>0.521505</td>\n",
       "      <td>0.000000</td>\n",
       "      <td>0.426667</td>\n",
       "      <td>0.002340</td>\n",
       "      <td>0.886842</td>\n",
       "      <td>0.903394</td>\n",
       "      <td>0.883375</td>\n",
       "      <td>0.629371</td>\n",
       "      <td>0.004204</td>\n",
       "      <td>0.612022</td>\n",
       "      <td>0.363636</td>\n",
       "      <td>2.836833e-02</td>\n",
       "      <td>1.267369e-02</td>\n",
       "    </tr>\n",
       "    <tr>\n",
       "      <th>...</th>\n",
       "      <td>...</td>\n",
       "      <td>...</td>\n",
       "      <td>...</td>\n",
       "      <td>...</td>\n",
       "      <td>...</td>\n",
       "      <td>...</td>\n",
       "      <td>...</td>\n",
       "      <td>...</td>\n",
       "      <td>...</td>\n",
       "      <td>...</td>\n",
       "      <td>...</td>\n",
       "      <td>...</td>\n",
       "      <td>...</td>\n",
       "      <td>...</td>\n",
       "      <td>...</td>\n",
       "      <td>...</td>\n",
       "    </tr>\n",
       "    <tr>\n",
       "      <th>13626</th>\n",
       "      <td>0.798331</td>\n",
       "      <td>0.769231</td>\n",
       "      <td>0.667680</td>\n",
       "      <td>0.413978</td>\n",
       "      <td>1.000000</td>\n",
       "      <td>0.000000</td>\n",
       "      <td>0.021936</td>\n",
       "      <td>0.193421</td>\n",
       "      <td>0.203655</td>\n",
       "      <td>0.204715</td>\n",
       "      <td>0.010490</td>\n",
       "      <td>0.146184</td>\n",
       "      <td>0.562842</td>\n",
       "      <td>0.363636</td>\n",
       "      <td>1.159016e-04</td>\n",
       "      <td>4.889261e-10</td>\n",
       "    </tr>\n",
       "    <tr>\n",
       "      <th>22343</th>\n",
       "      <td>0.819193</td>\n",
       "      <td>0.624434</td>\n",
       "      <td>0.209726</td>\n",
       "      <td>0.516129</td>\n",
       "      <td>1.000000</td>\n",
       "      <td>0.120000</td>\n",
       "      <td>0.000000</td>\n",
       "      <td>0.423684</td>\n",
       "      <td>0.443864</td>\n",
       "      <td>0.445409</td>\n",
       "      <td>0.000000</td>\n",
       "      <td>0.004528</td>\n",
       "      <td>0.699454</td>\n",
       "      <td>0.272727</td>\n",
       "      <td>3.746638e-03</td>\n",
       "      <td>0.000000e+00</td>\n",
       "    </tr>\n",
       "    <tr>\n",
       "      <th>19981</th>\n",
       "      <td>0.757997</td>\n",
       "      <td>0.579186</td>\n",
       "      <td>0.390071</td>\n",
       "      <td>0.639785</td>\n",
       "      <td>1.000000</td>\n",
       "      <td>0.106667</td>\n",
       "      <td>0.001755</td>\n",
       "      <td>0.364474</td>\n",
       "      <td>0.400783</td>\n",
       "      <td>0.418114</td>\n",
       "      <td>0.000000</td>\n",
       "      <td>0.025873</td>\n",
       "      <td>0.836066</td>\n",
       "      <td>0.272727</td>\n",
       "      <td>5.712671e-04</td>\n",
       "      <td>0.000000e+00</td>\n",
       "    </tr>\n",
       "    <tr>\n",
       "      <th>19223</th>\n",
       "      <td>0.553547</td>\n",
       "      <td>0.045249</td>\n",
       "      <td>0.470111</td>\n",
       "      <td>0.666667</td>\n",
       "      <td>0.000000</td>\n",
       "      <td>0.746667</td>\n",
       "      <td>0.157941</td>\n",
       "      <td>0.936842</td>\n",
       "      <td>0.971279</td>\n",
       "      <td>0.964020</td>\n",
       "      <td>0.573427</td>\n",
       "      <td>0.307245</td>\n",
       "      <td>0.633880</td>\n",
       "      <td>0.272727</td>\n",
       "      <td>4.735762e-04</td>\n",
       "      <td>0.000000e+00</td>\n",
       "    </tr>\n",
       "    <tr>\n",
       "      <th>6896</th>\n",
       "      <td>0.653686</td>\n",
       "      <td>0.877828</td>\n",
       "      <td>0.806484</td>\n",
       "      <td>0.311828</td>\n",
       "      <td>1.000000</td>\n",
       "      <td>0.000000</td>\n",
       "      <td>0.074291</td>\n",
       "      <td>0.393421</td>\n",
       "      <td>0.389034</td>\n",
       "      <td>0.369727</td>\n",
       "      <td>0.048951</td>\n",
       "      <td>0.458926</td>\n",
       "      <td>0.469945</td>\n",
       "      <td>0.272727</td>\n",
       "      <td>1.727256e-07</td>\n",
       "      <td>1.526032e-08</td>\n",
       "    </tr>\n",
       "  </tbody>\n",
       "</table>\n",
       "<p>2373 rows × 16 columns</p>\n",
       "</div>"
      ],
      "text/plain": [
       "              x         y       cld       dtr       frs       pet       pre  \\\n",
       "823    0.555364  0.634104  0.720365  0.338710  0.397742  0.120000  0.303598   \n",
       "22021  0.585535  0.497738  0.287741  0.784946  0.175161  0.440000  0.000585   \n",
       "22033  0.577191  0.493213  0.245187  0.758065  0.168710  0.360000  0.002632   \n",
       "8469   0.752434  0.855204  0.843972  0.225806  1.000000  0.013333  0.081018   \n",
       "21436  0.732962  0.429864  0.253293  0.521505  0.000000  0.426667  0.002340   \n",
       "...         ...       ...       ...       ...       ...       ...       ...   \n",
       "13626  0.798331  0.769231  0.667680  0.413978  1.000000  0.000000  0.021936   \n",
       "22343  0.819193  0.624434  0.209726  0.516129  1.000000  0.120000  0.000000   \n",
       "19981  0.757997  0.579186  0.390071  0.639785  1.000000  0.106667  0.001755   \n",
       "19223  0.553547  0.045249  0.470111  0.666667  0.000000  0.746667  0.157941   \n",
       "6896   0.653686  0.877828  0.806484  0.311828  1.000000  0.000000  0.074291   \n",
       "\n",
       "            tmn       tmp       tmx       vap       wet  elevation  \\\n",
       "823    0.713158  0.708877  0.677419  0.241259  0.359314   0.568306   \n",
       "22021  0.751316  0.801567  0.816377  0.262238  0.000000   0.546448   \n",
       "22033  0.752632  0.798956  0.811414  0.265734  0.000000   0.546448   \n",
       "8469   0.269737  0.255875  0.233251  0.013986  0.647801   0.590164   \n",
       "21436  0.886842  0.903394  0.883375  0.629371  0.004204   0.612022   \n",
       "...         ...       ...       ...       ...       ...        ...   \n",
       "13626  0.193421  0.203655  0.204715  0.010490  0.146184   0.562842   \n",
       "22343  0.423684  0.443864  0.445409  0.000000  0.004528   0.699454   \n",
       "19981  0.364474  0.400783  0.418114  0.000000  0.025873   0.836066   \n",
       "19223  0.936842  0.971279  0.964020  0.573427  0.307245   0.633880   \n",
       "6896   0.393421  0.389034  0.369727  0.048951  0.458926   0.469945   \n",
       "\n",
       "       dominant_land_cover  X5_Ct_2010_Da  X5_Bf_2010_Da  \n",
       "823               0.181818   9.146893e-03   0.000000e+00  \n",
       "22021             0.818182   2.249352e-04   0.000000e+00  \n",
       "22033             0.818182   1.635242e-04   0.000000e+00  \n",
       "8469              0.363636   4.327112e-05   2.593621e-09  \n",
       "21436             0.363636   2.836833e-02   1.267369e-02  \n",
       "...                    ...            ...            ...  \n",
       "13626             0.363636   1.159016e-04   4.889261e-10  \n",
       "22343             0.272727   3.746638e-03   0.000000e+00  \n",
       "19981             0.272727   5.712671e-04   0.000000e+00  \n",
       "19223             0.272727   4.735762e-04   0.000000e+00  \n",
       "6896              0.272727   1.727256e-07   1.526032e-08  \n",
       "\n",
       "[2373 rows x 16 columns]"
      ]
     },
     "execution_count": 57,
     "metadata": {},
     "output_type": "execute_result"
    }
   ],
   "source": [
    "x_test"
   ]
  },
  {
   "cell_type": "code",
   "execution_count": 56,
   "metadata": {
    "execution": {
     "iopub.execute_input": "2024-05-25T20:06:26.693168Z",
     "iopub.status.busy": "2024-05-25T20:06:26.692656Z",
     "iopub.status.idle": "2024-05-25T20:06:26.704778Z",
     "shell.execute_reply": "2024-05-25T20:06:26.703209Z",
     "shell.execute_reply.started": "2024-05-25T20:06:26.693121Z"
    }
   },
   "outputs": [
    {
     "data": {
      "text/plain": [
       "823      1.0\n",
       "22021    0.0\n",
       "22033    0.0\n",
       "8469     0.0\n",
       "21436    0.0\n",
       "        ... \n",
       "13626    0.0\n",
       "22343    0.0\n",
       "19981    0.0\n",
       "19223    0.0\n",
       "6896     0.0\n",
       "Name: lumpy, Length: 2373, dtype: float64"
      ]
     },
     "execution_count": 56,
     "metadata": {},
     "output_type": "execute_result"
    }
   ],
   "source": [
    "y_test"
   ]
  },
  {
   "cell_type": "code",
   "execution_count": 62,
   "metadata": {
    "execution": {
     "iopub.execute_input": "2024-05-25T20:10:15.114295Z",
     "iopub.status.busy": "2024-05-25T20:10:15.113519Z",
     "iopub.status.idle": "2024-05-25T20:10:15.123742Z",
     "shell.execute_reply": "2024-05-25T20:10:15.122349Z",
     "shell.execute_reply.started": "2024-05-25T20:10:15.114255Z"
    }
   },
   "outputs": [
    {
     "data": {
      "text/plain": [
       "(1, 16)"
      ]
     },
     "execution_count": 62,
     "metadata": {},
     "output_type": "execute_result"
    }
   ],
   "source": [
    "# For this sample data prediction is 1\n",
    "sample_data = pd.DataFrame([[0.555364, 0.634104, 0.720365, 0.338710, 0.397742, 0.120000, 0.303598, 0.713158, 0.708877, 0.677419, 0.241259, 0.359314, 0.568306, 0.181818, 9.146893e-03, 0.000000e+00]])\n",
    "sample_data.shape"
   ]
  },
  {
   "cell_type": "code",
   "execution_count": 68,
   "metadata": {
    "execution": {
     "iopub.execute_input": "2024-05-25T20:12:01.154075Z",
     "iopub.status.busy": "2024-05-25T20:12:01.153553Z",
     "iopub.status.idle": "2024-05-25T20:12:01.164236Z",
     "shell.execute_reply": "2024-05-25T20:12:01.162913Z",
     "shell.execute_reply.started": "2024-05-25T20:12:01.154033Z"
    }
   },
   "outputs": [
    {
     "name": "stdout",
     "output_type": "stream",
     "text": [
      "[1.]\n"
     ]
    },
    {
     "name": "stderr",
     "output_type": "stream",
     "text": [
      "/opt/conda/lib/python3.7/site-packages/sklearn/base.py:451: UserWarning: X does not have valid feature names, but SVC was fitted with feature names\n",
      "  \"X does not have valid feature names, but\"\n"
     ]
    }
   ],
   "source": [
    "sample_prediction = svc_model.predict(sample_data)\n",
    "print(sample_prediction)"
   ]
  },
  {
   "cell_type": "code",
   "execution_count": 72,
   "metadata": {
    "execution": {
     "iopub.execute_input": "2024-05-25T20:13:17.968119Z",
     "iopub.status.busy": "2024-05-25T20:13:17.967665Z",
     "iopub.status.idle": "2024-05-25T20:13:17.974549Z",
     "shell.execute_reply": "2024-05-25T20:13:17.973325Z",
     "shell.execute_reply.started": "2024-05-25T20:13:17.968081Z"
    }
   },
   "outputs": [
    {
     "name": "stdout",
     "output_type": "stream",
     "text": [
      "Yes\n"
     ]
    }
   ],
   "source": [
    "if sample_prediction[0]==1:\n",
    "    print(\"Yes\")\n",
    "else:\n",
    "    print(\"NO\")"
   ]
  },
  {
   "cell_type": "code",
   "execution_count": 76,
   "metadata": {
    "execution": {
     "iopub.execute_input": "2024-05-25T20:20:28.539869Z",
     "iopub.status.busy": "2024-05-25T20:20:28.539401Z",
     "iopub.status.idle": "2024-05-25T20:20:28.554369Z",
     "shell.execute_reply": "2024-05-25T20:20:28.552973Z",
     "shell.execute_reply.started": "2024-05-25T20:20:28.539825Z"
    }
   },
   "outputs": [
    {
     "data": {
      "text/plain": [
       "['lumpy_model.sav']"
      ]
     },
     "execution_count": 76,
     "metadata": {},
     "output_type": "execute_result"
    }
   ],
   "source": [
    "import joblib \n",
    "\n",
    "file_name = \"lumpy_model.sav\"\n",
    "\n",
    "joblib.dump(svc_model, file_name)"
   ]
  },
  {
   "cell_type": "code",
   "execution_count": 77,
   "metadata": {
    "execution": {
     "iopub.execute_input": "2024-05-25T20:22:03.800429Z",
     "iopub.status.busy": "2024-05-25T20:22:03.799902Z",
     "iopub.status.idle": "2024-05-25T20:22:03.815922Z",
     "shell.execute_reply": "2024-05-25T20:22:03.814102Z",
     "shell.execute_reply.started": "2024-05-25T20:22:03.800389Z"
    }
   },
   "outputs": [
    {
     "name": "stderr",
     "output_type": "stream",
     "text": [
      "/opt/conda/lib/python3.7/site-packages/sklearn/base.py:451: UserWarning: X does not have valid feature names, but SVC was fitted with feature names\n",
      "  \"X does not have valid feature names, but\"\n"
     ]
    },
    {
     "data": {
      "text/plain": [
       "array([1.])"
      ]
     },
     "execution_count": 77,
     "metadata": {},
     "output_type": "execute_result"
    }
   ],
   "source": [
    "loadded_model = joblib.load(file_name)\n",
    "\n",
    "loadded_model.predict(sample_data)"
   ]
  },
  {
   "cell_type": "code",
   "execution_count": null,
   "metadata": {},
   "outputs": [],
   "source": []
  },
  {
   "cell_type": "code",
   "execution_count": null,
   "metadata": {},
   "outputs": [],
   "source": []
  },
  {
   "cell_type": "code",
   "execution_count": null,
   "metadata": {},
   "outputs": [],
   "source": []
  },
  {
   "cell_type": "code",
   "execution_count": 64,
   "metadata": {
    "execution": {
     "iopub.execute_input": "2024-05-25T20:10:42.859481Z",
     "iopub.status.busy": "2024-05-25T20:10:42.858750Z",
     "iopub.status.idle": "2024-05-25T20:10:42.865009Z",
     "shell.execute_reply": "2024-05-25T20:10:42.863977Z",
     "shell.execute_reply.started": "2024-05-25T20:10:42.859428Z"
    }
   },
   "outputs": [],
   "source": [
    "# from sklearn.metrics import roc_curve, auc\n",
    "\n",
    "\n",
    "# predictions_train = svc_model.predict(x_train)\n",
    "# predictions_test = svc_model.predict(x_test)\n",
    "\n",
    "\n",
    "# def calculate_roc_auc(y_true, y_pred):\n",
    "#     fpr, tpr, thresholds = roc_curve(y_true, y_pred)\n",
    "#     roc_auc = auc(fpr, tpr)\n",
    "#     return fpr, tpr, thresholds, roc_auc\n",
    "\n",
    "\n",
    "# fpr_train, tpr_train, thresholds_train, roc_auc_train = calculate_roc_auc(y_train, predictions_train)\n",
    "\n",
    "\n",
    "# fpr_test, tpr_test, thresholds_test, roc_auc_test = calculate_roc_auc(y_test, predictions_test)\n",
    "\n",
    "\n",
    "# print('Training ROC AUC score:', roc_auc_train)\n",
    "# print('Test ROC AUC score:', roc_auc_test)\n"
   ]
  },
  {
   "cell_type": "code",
   "execution_count": 65,
   "metadata": {
    "execution": {
     "iopub.execute_input": "2024-05-25T20:10:48.233068Z",
     "iopub.status.busy": "2024-05-25T20:10:48.232508Z",
     "iopub.status.idle": "2024-05-25T20:10:48.239509Z",
     "shell.execute_reply": "2024-05-25T20:10:48.238289Z",
     "shell.execute_reply.started": "2024-05-25T20:10:48.233023Z"
    }
   },
   "outputs": [],
   "source": [
    "# from sklearn.metrics import roc_curve, auc, precision_recall_curve\n",
    "# fpr, tpr, thresholds = roc_curve(y_test, predictions_test)\n",
    "# roc_auc = auc(fpr, tpr)\n",
    "\n",
    "# precision, recall, _ = precision_recall_curve(y_test, predictions_test)\n",
    "\n",
    "\n",
    "# plt.figure(figsize=(8, 6))\n",
    "# plt.plot(fpr, tpr, color='darkorange', lw=2, label='ROC curve (area = {:.2f})'.format(roc_auc))\n",
    "# plt.plot([0, 1], [0, 1], color='navy', lw=2, linestyle='--')\n",
    "# plt.xlabel('False Positive Rate')\n",
    "# plt.ylabel('True Positive Rate')\n",
    "# plt.title('Receiver Operating Characteristic (ROC) Curve')\n",
    "# plt.legend(loc='lower right')\n",
    "# plt.show()\n",
    "\n",
    "\n",
    "# plt.figure(figsize=(8, 6))\n",
    "# plt.plot(recall, precision, color='darkorange', lw=2, label='Precision-Recall curve')\n",
    "# plt.xlabel('Recall')\n",
    "# plt.ylabel('Precision')\n",
    "# plt.title('Precision-Recall Curve')\n",
    "# plt.legend(loc='lower left')\n",
    "# plt.show()"
   ]
  },
  {
   "cell_type": "code",
   "execution_count": null,
   "metadata": {},
   "outputs": [],
   "source": []
  }
 ],
 "metadata": {
  "kaggle": {
   "accelerator": "none",
   "dataSources": [
    {
     "datasetId": 1750838,
     "sourceId": 4483322,
     "sourceType": "datasetVersion"
    }
   ],
   "dockerImageVersionId": 30260,
   "isGpuEnabled": false,
   "isInternetEnabled": false,
   "language": "python",
   "sourceType": "notebook"
  },
  "kernelspec": {
   "display_name": "Python 3 (ipykernel)",
   "language": "python",
   "name": "python3"
  },
  "language_info": {
   "codemirror_mode": {
    "name": "ipython",
    "version": 3
   },
   "file_extension": ".py",
   "mimetype": "text/x-python",
   "name": "python",
   "nbconvert_exporter": "python",
   "pygments_lexer": "ipython3",
   "version": "3.11.8"
  }
 },
 "nbformat": 4,
 "nbformat_minor": 4
}
